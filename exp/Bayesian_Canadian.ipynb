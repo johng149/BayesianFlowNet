{
  "nbformat": 4,
  "nbformat_minor": 0,
  "metadata": {
    "colab": {
      "provenance": []
    },
    "kernelspec": {
      "name": "python3",
      "display_name": "Python 3"
    },
    "language_info": {
      "name": "python"
    }
  },
  "cells": [
    {
      "cell_type": "code",
      "execution_count": null,
      "metadata": {
        "id": "iOxTPeeY7Z9M"
      },
      "outputs": [],
      "source": [
        "import torch\n",
        "from torch import Tensor\n",
        "from torch.nn import functional as F\n",
        "from torch import nn\n",
        "from torch.distributions.categorical import Categorical\n",
        "import numpy as np"
      ]
    },
    {
      "cell_type": "markdown",
      "source": [
        "## Discrete Case"
      ],
      "metadata": {
        "id": "ADriP7rD79KX"
      }
    },
    {
      "cell_type": "code",
      "source": [
        "discrete_truth_1 = torch.tensor([\n",
        "    [\n",
        "        0, 1, 0\n",
        "    ],\n",
        "    [\n",
        "        1, 0, 0\n",
        "    ]\n",
        "])\n",
        "discrete_truth_2 = torch.tensor([\n",
        "    [\n",
        "        0, 0, 1\n",
        "    ],\n",
        "    [\n",
        "        0, 1, 0\n",
        "    ]\n",
        "])\n",
        "discrete_truth = torch.stack([discrete_truth_1, discrete_truth_2])"
      ],
      "metadata": {
        "id": "EwRBFcoJ74SH"
      },
      "execution_count": null,
      "outputs": []
    },
    {
      "cell_type": "code",
      "source": [
        "discrete_truth, discrete_truth.shape"
      ],
      "metadata": {
        "colab": {
          "base_uri": "https://localhost:8080/"
        },
        "id": "fVJA5lE18L3A",
        "outputId": "da42e7aa-7c78-4cc0-b7f3-e4bbd3731af2"
      },
      "execution_count": null,
      "outputs": [
        {
          "output_type": "execute_result",
          "data": {
            "text/plain": [
              "(tensor([[[0, 1, 0],\n",
              "          [1, 0, 0]],\n",
              " \n",
              "         [[0, 0, 1],\n",
              "          [0, 1, 0]]]),\n",
              " torch.Size([2, 2, 3]))"
            ]
          },
          "metadata": {},
          "execution_count": 44
        }
      ]
    },
    {
      "cell_type": "code",
      "source": [
        "dis_batch, dis_len, K = discrete_truth.shape"
      ],
      "metadata": {
        "id": "I1Br-QeN8MyI"
      },
      "execution_count": null,
      "outputs": []
    },
    {
      "cell_type": "code",
      "source": [
        "def dis_beta_t(beta_1, t):\n",
        "  assert torch.all(t <= 1.0), \"all times in `t` must be at most 1\"\n",
        "  assert torch.all(t >= 0.0), \"all times in `t` must be at least 0\"\n",
        "  return beta_1 * (t**2)"
      ],
      "metadata": {
        "id": "Pf3EleKR8acX"
      },
      "execution_count": null,
      "outputs": []
    },
    {
      "cell_type": "code",
      "source": [
        "def dis_y_distribution(beta: Tensor, K: int, kron_x: Tensor):\n",
        "  beta_reshaped = beta.view(-1, 1, 1)\n",
        "  mean = beta_reshaped * (K * kron_x - 1)\n",
        "  variance = beta_reshaped * K\n",
        "  eps = torch.normal(0, 1, kron_x.shape)\n",
        "  return mean + variance * eps"
      ],
      "metadata": {
        "id": "GO8YHi_o8kJ_"
      },
      "execution_count": null,
      "outputs": []
    },
    {
      "cell_type": "code",
      "source": [
        "def dis_t(i: Tensor, n: Tensor, minimum: float=1e-6):\n",
        "  assert torch.all(i <= n), \"i must be less than or equal to n\"\n",
        "  assert torch.all(n > 0), \"n must be at least 1\"\n",
        "  assert torch.all(i > 0), \"i must be at least 1\"\n",
        "  return torch.clamp((i - 1) / n, min=minimum)"
      ],
      "metadata": {
        "id": "JIaWOFnT8-iT"
      },
      "execution_count": null,
      "outputs": []
    },
    {
      "cell_type": "code",
      "source": [
        "def dis_theta(y_prime, scaled=True):\n",
        "  theta = F.softmax(y_prime, dim=-1)\n",
        "  if scaled:\n",
        "    theta = 2 * theta - 1\n",
        "  return theta"
      ],
      "metadata": {
        "id": "kDTvyN-39jIi"
      },
      "execution_count": null,
      "outputs": []
    },
    {
      "cell_type": "markdown",
      "source": [
        "### Discrete example of simulated bayesian updates for fast training"
      ],
      "metadata": {
        "id": "KglgwTl084G1"
      }
    },
    {
      "cell_type": "code",
      "source": [
        "# we'll try batch dimension `n` and `i` to allow different `t` per batch\n",
        "n = torch.tensor([10, 12])\n",
        "i = torch.tensor([1, 3])"
      ],
      "metadata": {
        "id": "KgnRsVE4MQsb"
      },
      "execution_count": null,
      "outputs": []
    },
    {
      "cell_type": "code",
      "source": [
        "dis_beta_1 = torch.tensor([4, 3])"
      ],
      "metadata": {
        "id": "_--vlv1h8UQh"
      },
      "execution_count": null,
      "outputs": []
    },
    {
      "cell_type": "code",
      "source": [
        "t = dis_t(i, n)"
      ],
      "metadata": {
        "id": "rMdUQFUc89H8"
      },
      "execution_count": null,
      "outputs": []
    },
    {
      "cell_type": "code",
      "source": [
        "t"
      ],
      "metadata": {
        "colab": {
          "base_uri": "https://localhost:8080/"
        },
        "id": "QnorBBzpHhxf",
        "outputId": "de3d7174-35b9-4a5b-bc52-f7e8be86075b"
      },
      "execution_count": null,
      "outputs": [
        {
          "output_type": "execute_result",
          "data": {
            "text/plain": [
              "tensor([1.0000e-06, 1.6667e-01])"
            ]
          },
          "metadata": {},
          "execution_count": 53
        }
      ]
    },
    {
      "cell_type": "code",
      "source": [
        "beta = dis_beta_t(dis_beta_1, t)"
      ],
      "metadata": {
        "id": "FJVh8bze9I52"
      },
      "execution_count": null,
      "outputs": []
    },
    {
      "cell_type": "code",
      "source": [
        "beta"
      ],
      "metadata": {
        "colab": {
          "base_uri": "https://localhost:8080/"
        },
        "id": "m6QOjWiJNicr",
        "outputId": "a0860314-b71f-4a78-c730-b0a34299ecff"
      },
      "execution_count": null,
      "outputs": [
        {
          "output_type": "execute_result",
          "data": {
            "text/plain": [
              "tensor([4.0000e-12, 8.3333e-02])"
            ]
          },
          "metadata": {},
          "execution_count": 60
        }
      ]
    },
    {
      "cell_type": "code",
      "source": [
        "y_prime = dis_y_distribution(beta, K, discrete_truth)"
      ],
      "metadata": {
        "id": "LVupcJns9NER"
      },
      "execution_count": null,
      "outputs": []
    },
    {
      "cell_type": "code",
      "source": [
        "y_prime"
      ],
      "metadata": {
        "colab": {
          "base_uri": "https://localhost:8080/"
        },
        "id": "gnFOZ67I9eKk",
        "outputId": "3bebe39f-0b57-4476-9ed8-86d3561cf9ef"
      },
      "execution_count": null,
      "outputs": [
        {
          "output_type": "execute_result",
          "data": {
            "text/plain": [
              "tensor([[[-2.1192e-11,  2.4212e-11,  4.3637e-12],\n",
              "         [ 2.2644e-11, -1.4148e-11, -2.0885e-11]],\n",
              "\n",
              "        [[-1.6869e-01, -2.5021e-01,  4.3492e-01],\n",
              "         [ 1.1112e-01, -1.4747e-01, -3.6660e-01]]])"
            ]
          },
          "metadata": {},
          "execution_count": 91
        }
      ]
    },
    {
      "cell_type": "code",
      "source": [
        "theta = dis_theta(y_prime)"
      ],
      "metadata": {
        "id": "MVQaVuIO9pLA"
      },
      "execution_count": null,
      "outputs": []
    },
    {
      "cell_type": "code",
      "source": [
        "theta"
      ],
      "metadata": {
        "colab": {
          "base_uri": "https://localhost:8080/"
        },
        "id": "TJ1XNf1Y9rAd",
        "outputId": "8b2ff2ee-3010-44fa-d3d5-5a70d66c3a93"
      },
      "execution_count": null,
      "outputs": [
        {
          "output_type": "execute_result",
          "data": {
            "text/plain": [
              "tensor([[[-0.3333, -0.3333, -0.3333],\n",
              "         [-0.3333, -0.3333, -0.3333]],\n",
              "\n",
              "        [[-0.4667, -0.5085, -0.0248],\n",
              "         [-0.1640, -0.3545, -0.4815]]])"
            ]
          },
          "metadata": {},
          "execution_count": 93
        }
      ]
    },
    {
      "cell_type": "markdown",
      "source": [
        "### Discrete Neural Net"
      ],
      "metadata": {
        "id": "BMtmJ1ABCmKI"
      }
    },
    {
      "cell_type": "code",
      "source": [
        "class DiscreteModel(nn.Module):\n",
        "  def __init__(self, max_seq_len: int, K: int, hidden_dim: int, num_heads: int, layers: int = 3, dropout: float = 0.1):\n",
        "    super().__init__()\n",
        "    assert hidden_dim % num_heads == 0, \"hidden_dim must be divisble by num_heads\"\n",
        "    self.emb = nn.Parameter(torch.randn(K, hidden_dim))\n",
        "    self.pos_emb = nn.Parameter(torch.randn(max_seq_len, hidden_dim))\n",
        "    self.time_emb = nn.Parameter(torch.randn(1, hidden_dim))\n",
        "    self.layers = nn.ModuleList(\n",
        "        [\n",
        "            nn.TransformerEncoderLayer(\n",
        "                hidden_dim,\n",
        "                num_heads,\n",
        "                hidden_dim*4,\n",
        "                dropout,\n",
        "                batch_first=True,\n",
        "                bias=False\n",
        "                ) for i in range(layers)\n",
        "        ]\n",
        "    )\n",
        "    self.classifier = nn.Parameter(torch.randn(hidden_dim, K))\n",
        "\n",
        "  def token_emb(self, x):\n",
        "    return x @ self.emb\n",
        "\n",
        "  def positional_emb(self, x):\n",
        "    return x + self.pos_emb[:x.shape[1]]\n",
        "\n",
        "  def time_emb(self, x, t):\n",
        "    assert t.ndim == 1, \"time vector `t` should be vector of length batch_size\"\n",
        "    return (t.unsqueeze(-1) @ self.time_emb) + x\n",
        "\n",
        "  def forward(self, x):\n",
        "    x = self.token_emb(x)\n",
        "    x = self.positional_emb(x)\n",
        "    for i, l in enumerate(self.layers):\n",
        "      x = l.forward(x)\n",
        "    return x @ self.classifier"
      ],
      "metadata": {
        "id": "vATnzTkE91ir"
      },
      "execution_count": null,
      "outputs": []
    },
    {
      "cell_type": "code",
      "source": [
        "max_seq_len = 2\n",
        "hidden_dim = 64\n",
        "num_heads = 8"
      ],
      "metadata": {
        "id": "IUXT-nwVFO5k"
      },
      "execution_count": null,
      "outputs": []
    },
    {
      "cell_type": "code",
      "source": [
        "dis_model = DiscreteModel(max_seq_len, K, hidden_dim, num_heads)"
      ],
      "metadata": {
        "id": "7XiPLCRKFcnL"
      },
      "execution_count": null,
      "outputs": []
    },
    {
      "cell_type": "code",
      "source": [
        "dis_output = dis_model.forward(theta)"
      ],
      "metadata": {
        "id": "5NHJM4zMFhNd"
      },
      "execution_count": null,
      "outputs": []
    },
    {
      "cell_type": "code",
      "source": [
        "dis_output, dis_output.shape"
      ],
      "metadata": {
        "colab": {
          "base_uri": "https://localhost:8080/"
        },
        "id": "AfQisTmzGDW7",
        "outputId": "c1751bc0-718c-48e0-cee3-4cf954b7f6cc"
      },
      "execution_count": null,
      "outputs": [
        {
          "output_type": "execute_result",
          "data": {
            "text/plain": [
              "(tensor([[[-1.3763e+00, -1.2909e-02,  3.3054e+00],\n",
              "          [-9.2694e-01,  2.9095e+00,  1.3046e+01]],\n",
              " \n",
              "         [[ 4.6679e+00,  1.7936e+00,  5.5085e+00],\n",
              "          [ 1.4874e+00,  2.4814e+00,  1.1952e+01]]],\n",
              "        grad_fn=<UnsafeViewBackward0>),\n",
              " torch.Size([2, 2, 3]))"
            ]
          },
          "metadata": {},
          "execution_count": 324
        }
      ]
    },
    {
      "cell_type": "markdown",
      "source": [
        "### Discrete Loss"
      ],
      "metadata": {
        "id": "8w9dN5ftGh2A"
      }
    },
    {
      "cell_type": "code",
      "source": [
        "dis_output_probs = torch.softmax(dis_output, dim=-1)"
      ],
      "metadata": {
        "id": "Ek9bYIkfOWO3"
      },
      "execution_count": null,
      "outputs": []
    },
    {
      "cell_type": "code",
      "source": [
        "loss = torch.sum(K * dis_beta_1 * t * torch.sum((discrete_truth - dis_output_probs) ** 2) / dis_batch_size)"
      ],
      "metadata": {
        "id": "vzwQ7QjBt0Hn"
      },
      "execution_count": null,
      "outputs": []
    },
    {
      "cell_type": "code",
      "source": [
        "K * dis_beta_1 * t * torch.sum((discrete_truth - dis_output_probs) ** 2) / dis_batch"
      ],
      "metadata": {
        "colab": {
          "base_uri": "https://localhost:8080/"
        },
        "id": "Tj4Qh23hGsR_",
        "outputId": "149410a3-36cf-49a4-e601-856828c1c48c"
      },
      "execution_count": null,
      "outputs": [
        {
          "output_type": "execute_result",
          "data": {
            "text/plain": [
              "tensor(3.6196e-05, grad_fn=<DivBackward0>)"
            ]
          },
          "metadata": {},
          "execution_count": 326
        }
      ]
    },
    {
      "cell_type": "markdown",
      "source": [
        "### Discrete bayesian update step"
      ],
      "metadata": {
        "id": "nzE0-kyVMpt7"
      }
    },
    {
      "cell_type": "code",
      "source": [
        "def dis_accuracy(i, n, beta_1):\n",
        "  assert n > 0, \"must have at least 1 inference step\"\n",
        "  assert i > 0, \"must be at the first inference step or higher\"\n",
        "  assert i <= n, \"current inference step must be less than or equal to max inference steps\"\n",
        "  return beta_1 * (2 * i - 1) / (n ** 2)"
      ],
      "metadata": {
        "id": "QgVvMITOM_aw"
      },
      "execution_count": null,
      "outputs": []
    },
    {
      "cell_type": "code",
      "source": [
        "def dis_sample_model_output(model_output, one_hot: bool=True):\n",
        "  batch_size, seq_len, classes = model_output.shape\n",
        "  dist = Categorical(logits=model_output)\n",
        "  samples = dist.sample()\n",
        "  if one_hot:\n",
        "    samples = F.one_hot(samples, classes)\n",
        "  return samples"
      ],
      "metadata": {
        "id": "A2QdSlc7NcAv"
      },
      "execution_count": null,
      "outputs": []
    },
    {
      "cell_type": "code",
      "source": [
        "def dis_y(sampled_one_hot, alpha, use_variance=True):\n",
        "  # from some brief tests, using the variance results in a smoother decrease\n",
        "  # in error, while the standard deviation is more erratic but occasionally\n",
        "  # dips lower faster (but also sometimes goes up much more)\n",
        "  # when number of inference steps is low (below 10 or so), it seems using standard deviation\n",
        "  # is better (from the *very* limited tests I have done)\n",
        "  _, _, classes = sampled_one_hot.shape\n",
        "  mean = alpha * (classes * sampled_one_hot - 1)\n",
        "  variance = alpha * classes\n",
        "  standard_deviation = variance ** 0.5\n",
        "  coeff = variance if use_variance else standard_deviation\n",
        "  epsilon = torch.normal(0, 1, sampled_one_hot.shape)\n",
        "  return mean + coeff * epsilon"
      ],
      "metadata": {
        "id": "cinXFy7RQqC8"
      },
      "execution_count": null,
      "outputs": []
    },
    {
      "cell_type": "code",
      "source": [
        "def dis_bayesian_update(sampled_y, model_input):\n",
        "  res = torch.exp(sampled_y) * model_input\n",
        "  return res / torch.sum(res, dim=-1, keepdim=True)"
      ],
      "metadata": {
        "id": "jFDRiKsERRgx"
      },
      "execution_count": null,
      "outputs": []
    },
    {
      "cell_type": "code",
      "source": [
        "def dis_bayesian_inference(model_input, model_output, i, n, beta_1, use_variance=True):\n",
        "  batch_size, seq_len, classes = model_output.shape\n",
        "  alpha = dis_accuracy(i, n, beta_1)\n",
        "  sampled = dis_sample_model_output(model_output)\n",
        "  y = dis_y(sampled, alpha, use_variance)\n",
        "  return dis_bayesian_update(y, model_input)"
      ],
      "metadata": {
        "id": "qQzzAprlRpRY"
      },
      "execution_count": null,
      "outputs": []
    },
    {
      "cell_type": "code",
      "source": [
        "torch.manual_seed(32)"
      ],
      "metadata": {
        "colab": {
          "base_uri": "https://localhost:8080/"
        },
        "id": "Qd-BKwYOchwf",
        "outputId": "1e2b5b7b-fe9c-4e10-91dc-1b94a00604b5"
      },
      "execution_count": null,
      "outputs": [
        {
          "output_type": "execute_result",
          "data": {
            "text/plain": [
              "<torch._C.Generator at 0x7ac6cabe5370>"
            ]
          },
          "metadata": {},
          "execution_count": 332
        }
      ]
    },
    {
      "cell_type": "code",
      "source": [
        "model_input = torch.normal(0, 1, discrete_truth.shape)\n",
        "model_input = torch.softmax(model_input, dim=-1)"
      ],
      "metadata": {
        "id": "oH-fbLPuSYei"
      },
      "execution_count": null,
      "outputs": []
    },
    {
      "cell_type": "code",
      "source": [
        "model_input"
      ],
      "metadata": {
        "colab": {
          "base_uri": "https://localhost:8080/"
        },
        "id": "H-1eJL8XVSwp",
        "outputId": "bcb84c94-a2cb-455b-c365-a1b9378678a6"
      },
      "execution_count": null,
      "outputs": [
        {
          "output_type": "execute_result",
          "data": {
            "text/plain": [
              "tensor([[[0.4661, 0.2019, 0.3319],\n",
              "         [0.4249, 0.4027, 0.1724]],\n",
              "\n",
              "        [[0.7074, 0.2504, 0.0423],\n",
              "         [0.1235, 0.8233, 0.0532]]])"
            ]
          },
          "metadata": {},
          "execution_count": 334
        }
      ]
    },
    {
      "cell_type": "code",
      "source": [
        "discrete_truth"
      ],
      "metadata": {
        "colab": {
          "base_uri": "https://localhost:8080/"
        },
        "id": "bfGhGzejThRf",
        "outputId": "abd5e32c-2b96-4148-c7d9-a2fa94b7d9dd"
      },
      "execution_count": null,
      "outputs": [
        {
          "output_type": "execute_result",
          "data": {
            "text/plain": [
              "tensor([[[0, 1, 0],\n",
              "         [1, 0, 0]],\n",
              "\n",
              "        [[0, 0, 1],\n",
              "         [0, 1, 0]]])"
            ]
          },
          "metadata": {},
          "execution_count": 335
        }
      ]
    },
    {
      "cell_type": "code",
      "source": [
        "model_output = discrete_truth * 10 + 0.1 * torch.normal(0, 1, discrete_truth.shape)"
      ],
      "metadata": {
        "id": "GXs5SRB0Gw_0"
      },
      "execution_count": null,
      "outputs": []
    },
    {
      "cell_type": "code",
      "source": [
        "model_input, model_output"
      ],
      "metadata": {
        "colab": {
          "base_uri": "https://localhost:8080/"
        },
        "id": "g2WlHNlVSVpB",
        "outputId": "aea95a62-7aa4-4a44-aa96-d6e5d99d7c90"
      },
      "execution_count": null,
      "outputs": [
        {
          "output_type": "execute_result",
          "data": {
            "text/plain": [
              "(tensor([[[0.4661, 0.2019, 0.3319],\n",
              "          [0.4249, 0.4027, 0.1724]],\n",
              " \n",
              "         [[0.7074, 0.2504, 0.0423],\n",
              "          [0.1235, 0.8233, 0.0532]]]),\n",
              " tensor([[[-0.0577, 10.1285, -0.0637],\n",
              "          [10.0220,  0.0649,  0.0433]],\n",
              " \n",
              "         [[-0.1124, -0.0363,  9.9216],\n",
              "          [-0.0203,  9.9797,  0.0234]]]))"
            ]
          },
          "metadata": {},
          "execution_count": 337
        }
      ]
    },
    {
      "cell_type": "code",
      "source": [
        "dis_distances = []\n",
        "n = 20"
      ],
      "metadata": {
        "id": "T_v5nulgSduv"
      },
      "execution_count": null,
      "outputs": []
    },
    {
      "cell_type": "code",
      "source": [
        "for i in range(1, n+1):\n",
        "  model_input = dis_bayesian_inference(model_input, model_output, i, n, dis_beta_1, True)\n",
        "  mse = torch.sum((discrete_truth - model_input) ** 2)\n",
        "  dis_distances.append(mse)"
      ],
      "metadata": {
        "id": "S7BS3ecRSoLg"
      },
      "execution_count": null,
      "outputs": []
    },
    {
      "cell_type": "code",
      "source": [
        "import matplotlib.pyplot as plt"
      ],
      "metadata": {
        "id": "n_Tr1VUxTAlg"
      },
      "execution_count": null,
      "outputs": []
    },
    {
      "cell_type": "code",
      "source": [
        "plt.plot(dis_distances)"
      ],
      "metadata": {
        "colab": {
          "base_uri": "https://localhost:8080/",
          "height": 447
        },
        "id": "sg4zamFhTV_V",
        "outputId": "e1b20cf7-ab0e-40a4-c936-02dbe1013160"
      },
      "execution_count": null,
      "outputs": [
        {
          "output_type": "execute_result",
          "data": {
            "text/plain": [
              "[<matplotlib.lines.Line2D at 0x7ac5e2166750>]"
            ]
          },
          "metadata": {},
          "execution_count": 341
        },
        {
          "output_type": "display_data",
          "data": {
            "text/plain": [
              "<Figure size 640x480 with 1 Axes>"
            ],
            "image/png": "[encoded data removed]"
          },
          "metadata": {}
        }
      ]
    },
    {
      "cell_type": "code",
      "source": [
        "plt.plot(dis_distances)"
      ],
      "metadata": {
        "colab": {
          "base_uri": "https://localhost:8080/",
          "height": 447
        },
        "id": "gTg-x9cAdYAc",
        "outputId": "b3b228d1-2ee4-4a70-a2d5-c7d6bd2c5504"
      },
      "execution_count": null,
      "outputs": [
        {
          "output_type": "execute_result",
          "data": {
            "text/plain": [
              "[<matplotlib.lines.Line2D at 0x7ac5e219bc50>]"
            ]
          },
          "metadata": {},
          "execution_count": 342
        },
        {
          "output_type": "display_data",
          "data": {
            "text/plain": [
              "<Figure size 640x480 with 1 Axes>"
            ],
            "image/png": "[encoded data removed]"
          },
          "metadata": {}
        }
      ]
    },
    {
      "cell_type": "markdown",
      "source": [
        "## Continuous case"
      ],
      "metadata": {
        "id": "-ur5z5Vl1Ftd"
      }
    },
    {
      "cell_type": "code",
      "source": [
        "continous_truth = torch.tensor([\n",
        "    [\n",
        "        [0.2, 0.8, 0.1, 0.9],\n",
        "        [0.3, 0.4, 0.2, 0.8]\n",
        "    ],\n",
        "    [\n",
        "        [0.5, 0.7, 0.0, 0.1],\n",
        "        [0.4, 0.8, 0.9, 1.0]\n",
        "    ]\n",
        "])"
      ],
      "metadata": {
        "id": "UjAE_qqm1LsB"
      },
      "execution_count": null,
      "outputs": []
    },
    {
      "cell_type": "code",
      "source": [
        "batch, seq_len, pixels = continous_truth.shape"
      ],
      "metadata": {
        "id": "GfVtTFhi120w"
      },
      "execution_count": null,
      "outputs": []
    },
    {
      "cell_type": "code",
      "source": [
        "def con_gamma(t, sigma_1):\n",
        "  assert t > 0 and t <= 1, \"time must be greater than 0 and less or equal to 1\"\n",
        "  return 1 - sigma_1 ** (2 * t)"
      ],
      "metadata": {
        "id": "zv4lliyw16tt"
      },
      "execution_count": null,
      "outputs": []
    },
    {
      "cell_type": "code",
      "source": [
        "def con_mu(gamma, x):\n",
        "  mean = gamma * x\n",
        "  variance = gamma * (1 - gamma)\n",
        "  epsilon = torch.normal(0, 1, x.shape)\n",
        "  return mean + variance * epsilon"
      ],
      "metadata": {
        "id": "YNxBcnzw2Ptw"
      },
      "execution_count": null,
      "outputs": []
    },
    {
      "cell_type": "markdown",
      "source": [
        "### Continous example with simulated bayesian inference for fast training"
      ],
      "metadata": {
        "id": "DN0teyCY2nq2"
      }
    },
    {
      "cell_type": "code",
      "source": [
        "sigma_1 = 0.001\n",
        "t = 0.05\n",
        "# normally we would sample uniformly a real from 0 to 1, with some minimum of\n",
        "# say 1e-6 to prevent any possible divide by zero, but we hard-code for this example"
      ],
      "metadata": {
        "id": "h20sYeLr2kAe"
      },
      "execution_count": null,
      "outputs": []
    },
    {
      "cell_type": "code",
      "source": [
        "gamma = con_gamma(t, sigma_1)"
      ],
      "metadata": {
        "id": "ClbJCQUS6saK"
      },
      "execution_count": null,
      "outputs": []
    },
    {
      "cell_type": "code",
      "source": [
        "mu = con_mu(gamma, continous_truth)"
      ],
      "metadata": {
        "id": "ePW4wiqq65a_"
      },
      "execution_count": null,
      "outputs": []
    },
    {
      "cell_type": "markdown",
      "source": [
        "### Continous Model"
      ],
      "metadata": {
        "id": "1G00VnPP7O4-"
      }
    },
    {
      "cell_type": "code",
      "source": [
        "def con_reparameterized_x_pred(model_output, mu, gamma):\n",
        "  return (mu / gamma) - ((((1 - gamma) / gamma) ** 0.5) * model_output)"
      ],
      "metadata": {
        "id": "tqLaN1De7yBN"
      },
      "execution_count": null,
      "outputs": []
    },
    {
      "cell_type": "code",
      "source": [
        "class ContinuousModel(nn.Module):\n",
        "  def __init__(self, max_seq_len: int, K: int, hidden_dim: int, num_heads: int, layers: int = 3, dropout: float = 0.1):\n",
        "    super().__init__()\n",
        "    assert hidden_dim % num_heads == 0, \"hidden_dim must be divisble by num_heads\"\n",
        "    self.emb = nn.Parameter(torch.randn(K, hidden_dim))\n",
        "    self.pos_emb = nn.Parameter(torch.randn(max_seq_len, hidden_dim))\n",
        "    self.time_emb = nn.Parameter(torch.randn(1, hidden_dim))\n",
        "    self.layers = nn.ModuleList(\n",
        "        [\n",
        "            nn.TransformerEncoderLayer(\n",
        "                hidden_dim,\n",
        "                num_heads,\n",
        "                hidden_dim*4,\n",
        "                dropout,\n",
        "                batch_first=True,\n",
        "                bias=False\n",
        "                ) for i in range(layers)\n",
        "        ]\n",
        "    )\n",
        "    self.classifier = nn.Parameter(torch.randn(hidden_dim, K))\n",
        "\n",
        "  def token_emb(self, x):\n",
        "    return x @ self.emb\n",
        "\n",
        "  def positional_emb(self, x):\n",
        "    return x + self.pos_emb[:x.shape[1]]\n",
        "\n",
        "  def time_emb(self, x, t):\n",
        "    assert t >= 0 and t <= 1, \"time must be in range [0, 1]\"\n",
        "\n",
        "\n",
        "  def forward(self, x):\n",
        "    x = self.token_emb(x)\n",
        "    x = self.positional_emb(x)\n",
        "    for i, l in enumerate(self.layers):\n",
        "      x = l.forward(x)\n",
        "    return x @ self.classifier"
      ],
      "metadata": {
        "id": "TuRpPPFc7BXm"
      },
      "execution_count": null,
      "outputs": []
    },
    {
      "cell_type": "code",
      "source": [
        "con_model = ContinuousModel(seq_len, pixels, 64, 8)"
      ],
      "metadata": {
        "id": "wbc-jqSo7bmi"
      },
      "execution_count": null,
      "outputs": []
    },
    {
      "cell_type": "code",
      "source": [
        "con_output = con_model(mu)"
      ],
      "metadata": {
        "id": "FmZlpaJo7kPa"
      },
      "execution_count": null,
      "outputs": []
    },
    {
      "cell_type": "code",
      "source": [
        "con_output"
      ],
      "metadata": {
        "colab": {
          "base_uri": "https://localhost:8080/"
        },
        "id": "Ln100wqg7uzu",
        "outputId": "07331aa7-a2ae-4f35-9234-a60e9e12a234"
      },
      "execution_count": null,
      "outputs": [
        {
          "output_type": "execute_result",
          "data": {
            "text/plain": [
              "tensor([[[  0.2347,  10.2422,   4.2242, -12.2003],\n",
              "         [-10.2774,  -4.0376,   1.6303,  -5.2920]],\n",
              "\n",
              "        [[  4.9822,   2.2075,  -0.2841, -13.3292],\n",
              "         [ -1.2227,  -2.8514,   6.0360,   2.8248]]],\n",
              "       grad_fn=<UnsafeViewBackward0>)"
            ]
          },
          "metadata": {},
          "execution_count": 354
        }
      ]
    },
    {
      "cell_type": "code",
      "source": [
        "con_x_prime = con_reparameterized_x_pred(con_output, mu, gamma)"
      ],
      "metadata": {
        "id": "Q35ztPvT7vdq"
      },
      "execution_count": null,
      "outputs": []
    },
    {
      "cell_type": "code",
      "source": [
        "con_x_prime"
      ],
      "metadata": {
        "colab": {
          "base_uri": "https://localhost:8080/"
        },
        "id": "j0v6llwi8KQR",
        "outputId": "8db58adc-477d-47ce-e6d3-7378f1709cb2"
      },
      "execution_count": null,
      "outputs": [
        {
          "output_type": "execute_result",
          "data": {
            "text/plain": [
              "tensor([[[-0.2479, -9.6577, -4.0247, 13.0770],\n",
              "         [10.9774,  4.2358, -1.4098,  6.8574]],\n",
              "\n",
              "        [[-4.2128, -1.2436,  0.1481, 13.7610],\n",
              "         [ 1.3869,  3.8318, -4.9609, -2.1293]]], grad_fn=<SubBackward0>)"
            ]
          },
          "metadata": {},
          "execution_count": 356
        }
      ]
    },
    {
      "cell_type": "code",
      "source": [
        "continous_truth"
      ],
      "metadata": {
        "colab": {
          "base_uri": "https://localhost:8080/"
        },
        "id": "5MmpcS4I8K3V",
        "outputId": "0a74ba64-2f38-4b12-f7ac-2812879458f3"
      },
      "execution_count": null,
      "outputs": [
        {
          "output_type": "execute_result",
          "data": {
            "text/plain": [
              "tensor([[[0.2000, 0.8000, 0.1000, 0.9000],\n",
              "         [0.3000, 0.4000, 0.2000, 0.8000]],\n",
              "\n",
              "        [[0.5000, 0.7000, 0.0000, 0.1000],\n",
              "         [0.4000, 0.8000, 0.9000, 1.0000]]])"
            ]
          },
          "metadata": {},
          "execution_count": 357
        }
      ]
    },
    {
      "cell_type": "code",
      "source": [
        "continous_truth - con_x_prime"
      ],
      "metadata": {
        "colab": {
          "base_uri": "https://localhost:8080/"
        },
        "id": "7hqNlD_m8Nf1",
        "outputId": "2116efaf-484d-465d-99c2-d87b20aceee1"
      },
      "execution_count": null,
      "outputs": [
        {
          "output_type": "execute_result",
          "data": {
            "text/plain": [
              "tensor([[[  0.4479,  10.4577,   4.1247, -12.1770],\n",
              "         [-10.6774,  -3.8358,   1.6098,  -6.0574]],\n",
              "\n",
              "        [[  4.7128,   1.9436,  -0.1481, -13.6610],\n",
              "         [ -0.9869,  -3.0318,   5.8609,   3.1293]]], grad_fn=<SubBackward0>)"
            ]
          },
          "metadata": {},
          "execution_count": 358
        }
      ]
    },
    {
      "cell_type": "code",
      "source": [
        "loss = -np.log(sigma_1) * ((torch.sum((continous_truth - con_x_prime) ** 2) / (sigma_1 ** (2 * t))) / batch)"
      ],
      "metadata": {
        "id": "RP2gzvcI8fM7"
      },
      "execution_count": null,
      "outputs": []
    },
    {
      "cell_type": "code",
      "source": [
        "loss"
      ],
      "metadata": {
        "id": "tx2Qelqd8_Dx",
        "outputId": "940bec31-c201-4676-87c3-27419ae55398",
        "colab": {
          "base_uri": "https://localhost:8080/"
        }
      },
      "execution_count": null,
      "outputs": [
        {
          "output_type": "execute_result",
          "data": {
            "text/plain": [
              "tensor(4891.5361, grad_fn=<MulBackward0>)"
            ]
          },
          "metadata": {},
          "execution_count": 360
        }
      ]
    },
    {
      "cell_type": "markdown",
      "source": [
        "### Continous Bayesian update"
      ],
      "metadata": {
        "id": "HFLR6_kWGo0S"
      }
    },
    {
      "cell_type": "code",
      "source": [
        "def con_accuracy(sigma_1, i, n):\n",
        "  assert n > 0, \"Must have at least one inference step\"\n",
        "  assert i > 0, \"Must be at the first inference step or later\"\n",
        "  assert i <= n, \"Cannot be past last inference step\"\n",
        "  return (sigma_1 ** (-2 * i / n)) * (1 - sigma_1 ** (2 / n))"
      ],
      "metadata": {
        "id": "_7mlrmInHNUd"
      },
      "execution_count": null,
      "outputs": []
    },
    {
      "cell_type": "code",
      "source": [
        "def con_y(accuracy, x_prime):\n",
        "  epsilon = torch.normal(0, 1, x_prime.shape)\n",
        "  return x_prime + epsilon / accuracy"
      ],
      "metadata": {
        "id": "wKaV63ZCHz4O"
      },
      "execution_count": null,
      "outputs": []
    },
    {
      "cell_type": "code",
      "source": [
        "def con_new_precision(accuracy, old_precision):\n",
        "  return old_precision + accuracy"
      ],
      "metadata": {
        "id": "pCQwGKdNIRUT"
      },
      "execution_count": null,
      "outputs": []
    },
    {
      "cell_type": "code",
      "source": [
        "def con_bayesian_update(old_precision, new_precision, accuracy, y, model_input):\n",
        "  return (model_input * old_precision + y * accuracy) / new_precision"
      ],
      "metadata": {
        "id": "wla9A25nIJTk"
      },
      "execution_count": null,
      "outputs": []
    },
    {
      "cell_type": "code",
      "source": [
        "def con_bayesian_inference(model_input, model_output_x_prime, sigma_1, i, n, precision):\n",
        "  accuracy = con_accuracy(sigma_1, i, n)\n",
        "  y = con_y(accuracy, model_output_x_prime)\n",
        "  new_precision = con_new_precision(accuracy, precision)\n",
        "  mu_prime = con_bayesian_update(precision, new_precision, accuracy, y, model_input)\n",
        "  return mu_prime, new_precision"
      ],
      "metadata": {
        "id": "Z1zOPe7fIieI"
      },
      "execution_count": null,
      "outputs": []
    },
    {
      "cell_type": "code",
      "source": [
        "torch.manual_seed(33)"
      ],
      "metadata": {
        "colab": {
          "base_uri": "https://localhost:8080/"
        },
        "id": "oX4LAiDiJThT",
        "outputId": "86af12fe-00c8-4637-b4fb-8edbd2d46cb8"
      },
      "execution_count": null,
      "outputs": [
        {
          "output_type": "execute_result",
          "data": {
            "text/plain": [
              "<torch._C.Generator at 0x7ac6cabe5370>"
            ]
          },
          "metadata": {},
          "execution_count": 366
        }
      ]
    },
    {
      "cell_type": "code",
      "source": [
        "# we call this effective model output because the model actually outputes\n",
        "# the noise epsilon' prediction rather than the x' prediction itself, however\n",
        "# to simplify this example, we'll hard code the x' prediction directly\n",
        "effective_model_output = continous_truth + 0.05 * torch.normal(0, 1, continous_truth.shape)"
      ],
      "metadata": {
        "id": "965jWC6-9AXX"
      },
      "execution_count": null,
      "outputs": []
    },
    {
      "cell_type": "code",
      "source": [
        "model_input = torch.normal(0, 1, continous_truth.shape)"
      ],
      "metadata": {
        "id": "M9L3fpCZG2_V"
      },
      "execution_count": null,
      "outputs": []
    },
    {
      "cell_type": "code",
      "source": [
        "precision = 0 # we start with zero precision"
      ],
      "metadata": {
        "id": "wngoNEMyHKFj"
      },
      "execution_count": null,
      "outputs": []
    },
    {
      "cell_type": "code",
      "source": [
        "sigma_1 = 0.001"
      ],
      "metadata": {
        "id": "yk0lQxcPHfJo"
      },
      "execution_count": null,
      "outputs": []
    },
    {
      "cell_type": "code",
      "source": [
        "distances = []\n",
        "n = 10"
      ],
      "metadata": {
        "id": "E2EtrX8KHwJA"
      },
      "execution_count": null,
      "outputs": []
    },
    {
      "cell_type": "code",
      "source": [
        "for i in range(1, n+1):\n",
        "  model_input, precision = con_bayesian_inference(model_input, effective_model_output, sigma_1, i, n, precision)\n",
        "  mse = torch.sum((model_input - continous_truth) ** 2)\n",
        "  distances.append(mse)"
      ],
      "metadata": {
        "id": "jr3JqrRQJC1o"
      },
      "execution_count": null,
      "outputs": []
    },
    {
      "cell_type": "code",
      "source": [
        "plt.plot(distances)"
      ],
      "metadata": {
        "colab": {
          "base_uri": "https://localhost:8080/",
          "height": 447
        },
        "id": "11iHhrCfJM6c",
        "outputId": "e64afaa5-8a53-48b5-f65d-be4f5b9b12b0"
      },
      "execution_count": null,
      "outputs": [
        {
          "output_type": "execute_result",
          "data": {
            "text/plain": [
              "[<matplotlib.lines.Line2D at 0x7ac5e1a8f190>]"
            ]
          },
          "metadata": {},
          "execution_count": 373
        },
        {
          "output_type": "display_data",
          "data": {
            "text/plain": [
              "<Figure size 640x480 with 1 Axes>"
            ],
            "image/png": "[encoded data removed]"
          },
          "metadata": {}
        }
      ]
    },
    {
      "cell_type": "code",
      "source": [],
      "metadata": {
        "id": "xH6wHEqRJqdD"
      },
      "execution_count": null,
      "outputs": []
    }
  ]
}