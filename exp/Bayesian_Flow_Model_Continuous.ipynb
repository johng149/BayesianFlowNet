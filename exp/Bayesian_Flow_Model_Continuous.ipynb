{
  "cells": [
    {
      "cell_type": "code",
      "execution_count": 1,
      "metadata": {
        "id": "03_vIaIm9GP_"
      },
      "outputs": [],
      "source": [
        "import torch\n",
        "from torch import Tensor\n",
        "from torch.nn import functional as F\n",
        "from torch import nn\n",
        "from torch.distributions.categorical import Categorical\n",
        "from torch.utils.data import Dataset, DataLoader\n",
        "from torch.optim import AdamW\n",
        "import numpy as np\n",
        "import matplotlib.pyplot as plt\n",
        "import random\n",
        "from tqdm.auto import tqdm"
      ]
    },
    {
      "cell_type": "code",
      "execution_count": 2,
      "metadata": {
        "colab": {
          "base_uri": "https://localhost:8080/"
        },
        "id": "Azy_x9VH7AhT",
        "outputId": "742be550-4ce1-491c-c567-4c4495acdc0a"
      },
      "outputs": [
        {
          "data": {
            "text/plain": [
              "<torch._C.Generator at 0x794f093dd5d0>"
            ]
          },
          "execution_count": 2,
          "metadata": {},
          "output_type": "execute_result"
        }
      ],
      "source": [
        "torch.manual_seed(3)"
      ]
    },
    {
      "cell_type": "code",
      "execution_count": 3,
      "metadata": {
        "id": "YZC8qdA3JLwU"
      },
      "outputs": [],
      "source": [
        "def con_t(i: Tensor, n: Tensor, minimum: float=1e-6):\n",
        "  assert torch.all(i <= n), \"i must be less than or equal to n\"\n",
        "  assert torch.all(n > 0), \"n must be at least 1\"\n",
        "  assert torch.all(i > 0), \"i must be at least 1\"\n",
        "  return torch.clamp((i - 1) / n, min=minimum)"
      ]
    },
    {
      "cell_type": "code",
      "execution_count": 4,
      "metadata": {
        "id": "YKz2YkO0-yEY"
      },
      "outputs": [],
      "source": [
        "def con_gamma(t, sigma_1):\n",
        "  assert torch.all(t > 0) and torch.all(t <= 1), \"time must be greater than 0 and less or equal to 1\"\n",
        "  return 1 - sigma_1 ** t"
      ]
    },
    {
      "cell_type": "code",
      "execution_count": 5,
      "metadata": {
        "id": "B-a0HY0dcUBi"
      },
      "outputs": [],
      "source": [
        "def con_mu(gamma, x):\n",
        "  gamma = gamma.view(-1, 1, 1)\n",
        "  mean = gamma * x\n",
        "  variance = gamma * (1 - gamma)\n",
        "  std_dev = torch.sqrt(torch.clamp(variance, min=1e-8))\n",
        "  epsilon = torch.normal(0, 1, x.shape, device=x.device)\n",
        "  return mean + std_dev * epsilon"
      ]
    },
    {
      "cell_type": "code",
      "execution_count": 6,
      "metadata": {
        "id": "q_A5CacGd3wO"
      },
      "outputs": [],
      "source": [
        "def con_reparameterized_x_pred(model_output, mu, gamma, clip_min=None, clip_max=None):\n",
        "  gamma = gamma.view(-1,1,1)\n",
        "  scaling_factor = torch.sqrt((1 - gamma) / gamma)\n",
        "  x_prime = (mu / gamma) - (scaling_factor * model_output)\n",
        "  if clip_min is not None or clip_max is not None:\n",
        "    x_prime = torch.clamp(x_prime, min=clip_min, max=clip_max)\n",
        "  return x_prime"
      ]
    },
    {
      "cell_type": "code",
      "execution_count": 7,
      "metadata": {
        "id": "6mYS6aI7cWVZ"
      },
      "outputs": [],
      "source": [
        "continous_truth = torch.tensor([\n",
        "    [\n",
        "        [0.2, 0.8, 0.1, 0.9],\n",
        "        [0.3, 0.4, 0.2, 0.8]\n",
        "    ],\n",
        "    [\n",
        "        [0.5, 0.7, 0.0, 0.1],\n",
        "        [0.4, 0.8, 0.9, 1.0]\n",
        "    ]\n",
        "])"
      ]
    },
    {
      "cell_type": "code",
      "execution_count": 8,
      "metadata": {
        "colab": {
          "base_uri": "https://localhost:8080/"
        },
        "id": "CUG-SDnrcX0p",
        "outputId": "9640dd8a-6992-442a-addd-eb1deaa5e5b3"
      },
      "outputs": [
        {
          "data": {
            "text/plain": [
              "torch.Size([2, 2, 4])"
            ]
          },
          "execution_count": 8,
          "metadata": {},
          "output_type": "execute_result"
        }
      ],
      "source": [
        "continous_truth.shape"
      ]
    },
    {
      "cell_type": "code",
      "execution_count": 9,
      "metadata": {
        "id": "qkyGWW1bcaA1"
      },
      "outputs": [],
      "source": [
        "t = torch.tensor([0.05, 0.5])"
      ]
    },
    {
      "cell_type": "code",
      "execution_count": 10,
      "metadata": {
        "id": "TAPvgjBTcgWc"
      },
      "outputs": [],
      "source": [
        "sigma_1 = torch.tensor([0.001, 0.002])"
      ]
    },
    {
      "cell_type": "code",
      "execution_count": 11,
      "metadata": {
        "colab": {
          "base_uri": "https://localhost:8080/"
        },
        "id": "7BCKaypNcjt2",
        "outputId": "0555214f-6f1c-4335-b273-4ac1f4a0784d"
      },
      "outputs": [
        {
          "data": {
            "text/plain": [
              "tensor([0.5012, 0.0020])"
            ]
          },
          "execution_count": 11,
          "metadata": {},
          "output_type": "execute_result"
        }
      ],
      "source": [
        "sigma_1 ** (2 * t)"
      ]
    },
    {
      "cell_type": "code",
      "execution_count": 12,
      "metadata": {
        "id": "EY_bW-hWcqSn"
      },
      "outputs": [],
      "source": [
        "gamma = con_gamma(t, sigma_1)"
      ]
    },
    {
      "cell_type": "code",
      "execution_count": 13,
      "metadata": {
        "id": "63KPzd-RcxnA"
      },
      "outputs": [],
      "source": [
        "mu = con_mu(gamma, continous_truth)"
      ]
    },
    {
      "cell_type": "code",
      "execution_count": 14,
      "metadata": {
        "id": "husOAqZNdshP"
      },
      "outputs": [],
      "source": [
        "class ContinuousModel(nn.Module):\n",
        "  def __init__(self, max_seq_len: int, K: int, hidden_dim: int, num_heads: int, layers: int = 3, dropout: float = 0.1):\n",
        "    super().__init__()\n",
        "    assert hidden_dim % num_heads == 0, \"hidden_dim must be divisble by num_heads\"\n",
        "    self.emb = nn.Parameter(torch.randn(K, hidden_dim))\n",
        "    self.pos_emb = nn.Parameter(torch.randn(max_seq_len, hidden_dim))\n",
        "    self.time_vec = nn.Parameter(torch.randn(1, hidden_dim))\n",
        "    self.layers = nn.ModuleList(\n",
        "        [\n",
        "            nn.TransformerEncoderLayer(\n",
        "                hidden_dim,\n",
        "                num_heads,\n",
        "                hidden_dim*4,\n",
        "                dropout,\n",
        "                batch_first=True,\n",
        "                bias=False\n",
        "                ) for i in range(layers)\n",
        "        ]\n",
        "    )\n",
        "    self.classifier = nn.Parameter(torch.randn(hidden_dim, K))\n",
        "\n",
        "  def token_emb(self, x):\n",
        "    return x @ self.emb\n",
        "\n",
        "  def positional_emb(self, x):\n",
        "    return x + self.pos_emb[:x.shape[1]]\n",
        "\n",
        "  def time_emb(self, x, t):\n",
        "    assert torch.all(t >= 0) and torch.all(t <= 1), \"time must be in range [0, 1]\"\n",
        "    # we need to first unsqueeze t to get it from shape (batch_size,)\n",
        "    # to (batch_size, 1) so it is compatible with the time_vec's (1, hidden_dim)\n",
        "    # the result is (batch_size, hidden_dim) however the x is\n",
        "    # (batch_size, seq_len, hidden_dim) so we need a second unsqueeze\n",
        "    return (t.unsqueeze(-1) @ self.time_vec).unsqueeze(-2) + x\n",
        "\n",
        "  def forward(self, x,  t):\n",
        "    x = self.token_emb(x)\n",
        "    x = self.positional_emb(x)\n",
        "    x = self.time_emb(x, t)\n",
        "    for i, l in enumerate(self.layers):\n",
        "      x = l.forward(x)\n",
        "    return x @ self.classifier"
      ]
    },
    {
      "cell_type": "code",
      "execution_count": 15,
      "metadata": {
        "id": "aS1wsCuIebTN"
      },
      "outputs": [],
      "source": [
        "batch_size, seq_len, pixels = continous_truth.shape"
      ]
    },
    {
      "cell_type": "code",
      "execution_count": 16,
      "metadata": {
        "colab": {
          "base_uri": "https://localhost:8080/"
        },
        "id": "2sWSEo_BG1N2",
        "outputId": "86407192-924a-47fb-8b0e-59d53f93261f"
      },
      "outputs": [
        {
          "data": {
            "text/plain": [
              "torch.Size([2, 2, 4])"
            ]
          },
          "execution_count": 16,
          "metadata": {},
          "output_type": "execute_result"
        }
      ],
      "source": [
        "continous_truth.shape"
      ]
    },
    {
      "cell_type": "code",
      "execution_count": 17,
      "metadata": {
        "id": "6G1JCcNOehRE"
      },
      "outputs": [],
      "source": [
        "model = ContinuousModel(seq_len, pixels, 64, 8)"
      ]
    },
    {
      "cell_type": "code",
      "execution_count": 18,
      "metadata": {
        "id": "Nr7tV1mGemMB"
      },
      "outputs": [],
      "source": [
        "output = model(mu, t)"
      ]
    },
    {
      "cell_type": "code",
      "execution_count": 19,
      "metadata": {
        "colab": {
          "base_uri": "https://localhost:8080/"
        },
        "id": "dROUH9CCeny1",
        "outputId": "62a75ace-cf3b-4626-e66b-c08d47cec7e3"
      },
      "outputs": [
        {
          "data": {
            "text/plain": [
              "tensor([[[  4.0016,  12.1084,  -2.9912,   3.7942],\n",
              "         [ 10.6730, -14.4573,  11.5441,  13.2375]],\n",
              "\n",
              "        [[  5.9914,  -3.8749,   7.3435,   0.3989],\n",
              "         [  4.7369,  -7.7881,  11.2527,   6.2900]]],\n",
              "       grad_fn=<UnsafeViewBackward0>)"
            ]
          },
          "execution_count": 19,
          "metadata": {},
          "output_type": "execute_result"
        }
      ],
      "source": [
        "output"
      ]
    },
    {
      "cell_type": "code",
      "execution_count": 20,
      "metadata": {
        "id": "RwwQW8ySeojC"
      },
      "outputs": [],
      "source": [
        "x_prime = con_reparameterized_x_pred(output, mu, gamma, 0, 1) # since we know the truth is in [0, 1]"
      ]
    },
    {
      "cell_type": "code",
      "execution_count": 21,
      "metadata": {
        "colab": {
          "base_uri": "https://localhost:8080/"
        },
        "id": "iCsPhB_rCi-G",
        "outputId": "b8b26a40-04c0-49f4-eb2c-b96bcc760237"
      },
      "outputs": [
        {
          "data": {
            "text/plain": [
              "tensor([[[0., 0., 1., 0.],\n",
              "         [0., 1., 0., 0.]],\n",
              "\n",
              "        [[0., 1., 0., 0.],\n",
              "         [0., 1., 0., 0.]]], grad_fn=<ClampBackward1>)"
            ]
          },
          "execution_count": 21,
          "metadata": {},
          "output_type": "execute_result"
        }
      ],
      "source": [
        "x_prime"
      ]
    },
    {
      "cell_type": "code",
      "execution_count": 22,
      "metadata": {
        "id": "tATmpuN5eswv"
      },
      "outputs": [],
      "source": [
        "def con_loss(sigma_1, t, truth, pred):\n",
        "  batch_size, seq_len, _ = truth.shape\n",
        "  # we do batch_size ** 2 since the first division normalizes the truth - pred,\n",
        "  # the second division normalizes the sigma_1 and t batch dimension\n",
        "  # then divide by sequence length to normalize by seq len\n",
        "  return torch.sum(-torch.log(sigma_1) * ((torch.sum((truth - pred) ** 2) / (sigma_1 ** (2 * t))) / (batch_size**2))) / seq_len"
      ]
    },
    {
      "cell_type": "code",
      "execution_count": 23,
      "metadata": {
        "id": "hAB_y2Pf9H2_"
      },
      "outputs": [],
      "source": [
        "def con_accuracy(sigma_1, i, n):\n",
        "  assert torch.all(n > 0), \"Must have at least one inference step\"\n",
        "  assert torch.all(i > 0), \"Must be at the first inference step or later\"\n",
        "  assert torch.all(i <= n), \"Cannot be past last inference step\"\n",
        "  return (sigma_1 ** (-2 * i / n)) * (1 - sigma_1 ** (2 / n))"
      ]
    },
    {
      "cell_type": "code",
      "execution_count": 24,
      "metadata": {
        "id": "HvY-3bCrHLg7"
      },
      "outputs": [],
      "source": [
        "def con_y(accuracy, x_prime):\n",
        "  epsilon = torch.normal(0, 1, x_prime.shape, device=x_prime.device)\n",
        "  std_dev = 1.0 / torch.sqrt(torch.clamp(accuracy, min=1e-8))\n",
        "  return x_prime + epsilon * std_dev.view(-1, 1, 1)"
      ]
    },
    {
      "cell_type": "code",
      "execution_count": 25,
      "metadata": {
        "id": "7y0tY0ssHUwq"
      },
      "outputs": [],
      "source": [
        "def con_new_precision(accuracy, old_precision):\n",
        "  return old_precision + accuracy"
      ]
    },
    {
      "cell_type": "code",
      "execution_count": 26,
      "metadata": {
        "id": "iXgB6HN0HXM9"
      },
      "outputs": [],
      "source": [
        "def con_bayesian_update(old_precision, new_precision, accuracy, y, model_input):\n",
        "  return (model_input * old_precision.view(-1,1,1) + y * accuracy.view(-1,1,1)) / new_precision.view(-1,1,1)"
      ]
    },
    {
      "cell_type": "code",
      "execution_count": 27,
      "metadata": {
        "id": "Tf3PsyYxHbvX"
      },
      "outputs": [],
      "source": [
        "def con_bayesian_inference(model_input, model_output_x_prime, sigma_1, i, n, precision):\n",
        "  accuracy = con_accuracy(sigma_1, i, n)\n",
        "  y = con_y(accuracy, model_output_x_prime)\n",
        "  new_precision = con_new_precision(accuracy, precision)\n",
        "  mu_prime = con_bayesian_update(precision, new_precision, accuracy, y, model_input)\n",
        "  return mu_prime, new_precision"
      ]
    },
    {
      "cell_type": "code",
      "execution_count": 28,
      "metadata": {
        "id": "vaA8yKU5G-Qm"
      },
      "outputs": [],
      "source": [
        "i = torch.tensor([1,2])\n",
        "n = torch.tensor([20,21])\n",
        "precision = torch.tensor([1.1, 2.2])"
      ]
    },
    {
      "cell_type": "code",
      "execution_count": 29,
      "metadata": {
        "colab": {
          "base_uri": "https://localhost:8080/"
        },
        "id": "DIy2Pj9UHSr8",
        "outputId": "d7efbb5e-f4f9-4ac3-a88e-31994b1a06bb"
      },
      "outputs": [
        {
          "data": {
            "text/plain": [
              "(tensor([[[ 0.5542,  0.1195,  0.5815,  0.2143],\n",
              "          [-0.0590,  0.0011,  0.4698, -0.4498]],\n",
              " \n",
              "         [[ 0.0914,  0.9022, -0.1616, -0.1021],\n",
              "          [-0.6236,  0.8860,  1.0372,  0.7749]]], grad_fn=<DivBackward0>),\n",
              " tensor([2.0953, 3.6592]))"
            ]
          },
          "execution_count": 29,
          "metadata": {},
          "output_type": "execute_result"
        }
      ],
      "source": [
        "con_bayesian_inference(mu, x_prime, sigma_1, i, n, precision)"
      ]
    },
    {
      "cell_type": "code",
      "execution_count": 30,
      "metadata": {
        "id": "QDAlbzyUHids"
      },
      "outputs": [],
      "source": [
        "def generate_sequence(length: int, mini: int = 0, maxi: int = 100):\n",
        "  start = random.randint(mini, maxi - length)\n",
        "  end = start + length\n",
        "  acc = torch.arange(start, end) / maxi\n",
        "  return acc"
      ]
    },
    {
      "cell_type": "code",
      "execution_count": 31,
      "metadata": {
        "id": "n7lhCY_4H3DC"
      },
      "outputs": [],
      "source": [
        "class ContinuousSynthetic(Dataset):\n",
        "  def __init__(self, length: int = 32, pixels: int = 32, mini: int = 0, maxi: int = 100):\n",
        "    self.length = length\n",
        "    self.pixels = pixels\n",
        "    self.mini = mini\n",
        "    self.maxi = maxi\n",
        "\n",
        "  def __len__(self):\n",
        "    return 10000\n",
        "\n",
        "  def __getitem__(self, idx):\n",
        "    sequence = [generate_sequence(self.pixels, self.mini, self.maxi) for i in range(self.length)]\n",
        "    return torch.stack(sequence)"
      ]
    },
    {
      "cell_type": "code",
      "execution_count": 32,
      "metadata": {
        "id": "PIIdTX6yImV1"
      },
      "outputs": [],
      "source": [
        "def make_infinite(dl):\n",
        "  while True:\n",
        "    for data in dl:\n",
        "      yield data"
      ]
    },
    {
      "cell_type": "code",
      "execution_count": 33,
      "metadata": {
        "id": "e0pf66pJGE1a"
      },
      "outputs": [],
      "source": [
        "length = 5\n",
        "pixels = 4\n",
        "train_ds = ContinuousSynthetic(length, pixels)"
      ]
    },
    {
      "cell_type": "code",
      "execution_count": 34,
      "metadata": {
        "id": "kthf6680LDus"
      },
      "outputs": [],
      "source": [
        "batch_size = 32 * 6 * 2"
      ]
    },
    {
      "cell_type": "code",
      "execution_count": 35,
      "metadata": {
        "id": "C6yW_rpFGKjI"
      },
      "outputs": [],
      "source": [
        "train_dl = DataLoader(train_ds, batch_size=batch_size)\n",
        "train_dl = make_infinite(train_dl)"
      ]
    },
    {
      "cell_type": "code",
      "execution_count": 36,
      "metadata": {
        "id": "OZ1AjfhwH5kL"
      },
      "outputs": [],
      "source": [
        "device = \"cuda\" if torch.cuda.is_available() else \"cpu\""
      ]
    },
    {
      "cell_type": "code",
      "execution_count": 37,
      "metadata": {
        "id": "V6At3riwH1DG"
      },
      "outputs": [],
      "source": [
        "model = ContinuousModel(length, pixels, 64, 8)"
      ]
    },
    {
      "cell_type": "code",
      "execution_count": 38,
      "metadata": {
        "id": "iotV74dKH8En"
      },
      "outputs": [],
      "source": [
        "model = model.to(device)"
      ]
    },
    {
      "cell_type": "code",
      "execution_count": 39,
      "metadata": {
        "id": "igBptLJrH9Ux"
      },
      "outputs": [],
      "source": [
        "opt = AdamW(model.parameters())"
      ]
    },
    {
      "cell_type": "code",
      "execution_count": 40,
      "metadata": {
        "id": "5yHZu_FgINpG"
      },
      "outputs": [],
      "source": [
        "n = 10"
      ]
    },
    {
      "cell_type": "code",
      "execution_count": 41,
      "metadata": {
        "id": "dUSRGgudH_nF"
      },
      "outputs": [],
      "source": [
        "model_input = torch.randn((1, length, pixels)).to(device)"
      ]
    },
    {
      "cell_type": "code",
      "execution_count": 42,
      "metadata": {
        "id": "G2JLKjtIIVQt"
      },
      "outputs": [],
      "source": [
        "precision = torch.tensor([0]).to(device)"
      ]
    },
    {
      "cell_type": "code",
      "execution_count": 43,
      "metadata": {
        "id": "3U8lFMfgJkgE"
      },
      "outputs": [],
      "source": [
        "sigma_1 = torch.tensor([0.001]).to(device)"
      ]
    },
    {
      "cell_type": "code",
      "execution_count": 44,
      "metadata": {
        "id": "rjNPoRjoIOp8"
      },
      "outputs": [
        {
          "name": "stderr",
          "output_type": "stream",
          "text": [
            "/media/john/Tertiary/Projects/ML/BayesianFlowNetwork/.venv/lib/python3.11/site-packages/torch/nn/functional.py:5560: UserWarning: Flash attention support on Navi31 GPU is still experimental. Enable it with TORCH_ROCM_AOTRITON_ENABLE_EXPERIMENTAL=1. (Triggered internally at /pytorch/aten/src/ATen/native/transformers/hip/sdp_utils.cpp:207.)\n",
            "  attn_output = scaled_dot_product_attention(q, k, v, attn_mask, dropout_p, is_causal)\n",
            "/media/john/Tertiary/Projects/ML/BayesianFlowNetwork/.venv/lib/python3.11/site-packages/torch/nn/functional.py:5560: UserWarning: Memory Efficient attention on Navi31 GPU is still experimental. Enable it with TORCH_ROCM_AOTRITON_ENABLE_EXPERIMENTAL=1. (Triggered internally at /pytorch/aten/src/ATen/native/transformers/hip/sdp_utils.cpp:251.)\n",
            "  attn_output = scaled_dot_product_attention(q, k, v, attn_mask, dropout_p, is_causal)\n"
          ]
        }
      ],
      "source": [
        "with torch.no_grad():\n",
        "  for i in range(1, n):\n",
        "    if i % 10 == 0:\n",
        "      print(model_input)\n",
        "    cur_i = torch.tensor([i]).to(device)\n",
        "    cur_n = torch.tensor([n]).to(device)\n",
        "    t = con_t(cur_i, cur_n)\n",
        "    gamma = con_gamma(t, sigma_1)\n",
        "    model_output = model(model_input, t)\n",
        "    x_prime = con_reparameterized_x_pred(model_output, model_input, gamma, 0, 1)  # since we know the truth is in [0, 1]\n",
        "    model_input, precision = con_bayesian_inference(model_input, x_prime, sigma_1, cur_i, cur_n, precision)"
      ]
    },
    {
      "cell_type": "code",
      "execution_count": 45,
      "metadata": {
        "id": "fLei1U5yKjos"
      },
      "outputs": [],
      "source": [
        "def sample_t(batch_size, min_t=1e-6):\n",
        "  return torch.clamp(torch.FloatTensor(batch_size).uniform_(0,1), min=min_t)"
      ]
    },
    {
      "cell_type": "code",
      "execution_count": 46,
      "metadata": {
        "id": "c9B8j49sG_qU"
      },
      "outputs": [],
      "source": [
        "losses = []"
      ]
    },
    {
      "cell_type": "code",
      "execution_count": 100,
      "metadata": {
        "id": "-VMojbaIH0GT"
      },
      "outputs": [],
      "source": [
        "epochs = 40000"
      ]
    },
    {
      "cell_type": "code",
      "execution_count": 101,
      "metadata": {
        "colab": {
          "base_uri": "https://localhost:8080/",
          "height": 69,
          "referenced_widgets": [
            "4bfed355e10d43d9b76ee2ab39e31ed2",
            "2087d379646249e5ba8e4d142074ce68",
            "8cb8683bbfe64e9299e46dbc26a61a79",
            "66a7160e82374b3b95fdfe5bdcac6565",
            "698565e9fffe4fd2af0d79ec3d611b96",
            "d98531bfd8a243bd8f3b61d2cbdd8e2b",
            "4bf9f46052ab47bca8f438cba418b38a",
            "62a2d467d4e94b64a01aec4bc76c3d32",
            "fcb4eaeab0574aa982b3e56f1047e610",
            "8e48c70514c94995b94bc0d72f2607a3",
            "9f4c78a9cb054704a57c45780eda83af"
          ]
        },
        "id": "8moZdyGAIJ9X",
        "outputId": "ce3bca6a-d5e7-4d14-e1e0-37746cf24493"
      },
      "outputs": [
        {
          "data": {
            "application/vnd.jupyter.widget-view+json": {
              "model_id": "bd8783b58cda4a78a887ffcbdc094c0e",
              "version_major": 2,
              "version_minor": 0
            },
            "text/plain": [
              "  0%|          | 0/40000 [00:00<?, ?it/s]"
            ]
          },
          "metadata": {},
          "output_type": "display_data"
        }
      ],
      "source": [
        "for i in tqdm(range(epochs)):\n",
        "  opt.zero_grad()\n",
        "  ground_truth = next(train_dl).to(device)\n",
        "  batch_size, seq_len, pixels = ground_truth.shape\n",
        "  t = sample_t(batch_size).to(device)\n",
        "  sigma_1 = torch.ones((batch_size), device=device) * 0.001\n",
        "  gamma = con_gamma(t, sigma_1)\n",
        "  mu = con_mu(gamma, ground_truth)\n",
        "  output = model(mu, t)\n",
        "  x_prime = con_reparameterized_x_pred(output, mu, gamma, 0, 1)  # since we know the truth is in [0, 1]\n",
        "  loss = con_loss(sigma_1, t, ground_truth, x_prime)\n",
        "  loss.backward()\n",
        "  losses.append(loss.item())\n",
        "  # torch.nn.utils.clip_grad_norm_(model.parameters(), 1)\n",
        "  opt.step()"
      ]
    },
    {
      "cell_type": "code",
      "execution_count": 102,
      "metadata": {
        "colab": {
          "base_uri": "https://localhost:8080/"
        },
        "id": "HHk2IF00W2bt",
        "outputId": "c1a8f203-ff71-4c97-ea7c-4a5e16702113"
      },
      "outputs": [
        {
          "data": {
            "text/plain": [
              "46409.7578125"
            ]
          },
          "execution_count": 102,
          "metadata": {},
          "output_type": "execute_result"
        }
      ],
      "source": [
        "losses[-1]"
      ]
    },
    {
      "cell_type": "code",
      "execution_count": 103,
      "metadata": {
        "colab": {
          "base_uri": "https://localhost:8080/"
        },
        "id": "eAYid-zjMdQa",
        "outputId": "4ead8952-25bf-42e4-c739-63c741a4d678"
      },
      "outputs": [
        {
          "data": {
            "text/plain": [
              "[<matplotlib.lines.Line2D at 0x794bd7c150d0>]"
            ]
          },
          "execution_count": 103,
          "metadata": {},
          "output_type": "execute_result"
        },
        {
          "data": {
            "image/png": "[encoded data removed]",
            "text/plain": [
              "<Figure size 640x480 with 1 Axes>"
            ]
          },
          "metadata": {},
          "output_type": "display_data"
        }
      ],
      "source": [
        "plt.plot(losses)"
      ]
    },
    {
      "cell_type": "code",
      "execution_count": 104,
      "metadata": {
        "colab": {
          "base_uri": "https://localhost:8080/",
          "height": 483
        },
        "id": "G-56GoI_MpN_",
        "outputId": "0ddc9b02-fb88-4e7d-f9c1-42ab11350fab"
      },
      "outputs": [
        {
          "data": {
            "text/plain": [
              "[<matplotlib.lines.Line2D at 0x794bd7c59c90>]"
            ]
          },
          "execution_count": 104,
          "metadata": {},
          "output_type": "execute_result"
        },
        {
          "data": {
            "image/png": "[encoded data removed]",
            "text/plain": [
              "<Figure size 640x480 with 1 Axes>"
            ]
          },
          "metadata": {},
          "output_type": "display_data"
        }
      ],
      "source": [
        "def moving_average(data, window_size):\n",
        "    return np.convolve(data, np.ones(window_size)/window_size, mode='valid')\n",
        "\n",
        "# Usage\n",
        "smoothed_losses = moving_average(losses, window_size=50)\n",
        "plt.plot(smoothed_losses)"
      ]
    },
    {
      "cell_type": "code",
      "execution_count": 131,
      "metadata": {
        "id": "7zxpmEbEMqOY"
      },
      "outputs": [],
      "source": [
        "# model_input = torch.randn((1, length, pixels)).to(device)\n",
        "model_input = torch.zeros((1, length, pixels)).to(device)"
      ]
    },
    {
      "cell_type": "code",
      "execution_count": 132,
      "metadata": {
        "colab": {
          "base_uri": "https://localhost:8080/"
        },
        "id": "30kVv-SAUcCW",
        "outputId": "bd510acd-7d0b-49c5-9ac4-ca27e29b2786"
      },
      "outputs": [
        {
          "data": {
            "text/plain": [
              "tensor([[[0., 0., 0., 0.],\n",
              "         [0., 0., 0., 0.],\n",
              "         [0., 0., 0., 0.],\n",
              "         [0., 0., 0., 0.],\n",
              "         [0., 0., 0., 0.]]], device='cuda:0')"
            ]
          },
          "execution_count": 132,
          "metadata": {},
          "output_type": "execute_result"
        }
      ],
      "source": [
        "model_input"
      ]
    },
    {
      "cell_type": "code",
      "execution_count": 133,
      "metadata": {
        "id": "fbPV5iJKMtMU"
      },
      "outputs": [],
      "source": [
        "precision = torch.tensor([0]).to(device)"
      ]
    },
    {
      "cell_type": "code",
      "execution_count": 134,
      "metadata": {
        "id": "SledvnM5Mu93"
      },
      "outputs": [],
      "source": [
        "sigma_1 = torch.tensor([0.001]).to(device)"
      ]
    },
    {
      "cell_type": "code",
      "execution_count": 135,
      "metadata": {
        "id": "FSV6nfzZTOKR"
      },
      "outputs": [],
      "source": [
        "i = 1\n",
        "n = 100\n",
        "cur_i = torch.tensor([i]).to(device)\n",
        "cur_n = torch.tensor([n]).to(device)\n",
        "t = con_t(cur_i, cur_n)"
      ]
    },
    {
      "cell_type": "code",
      "execution_count": 136,
      "metadata": {
        "id": "4LdottxOTUwY"
      },
      "outputs": [],
      "source": [
        "model_output = model(model_input, t)"
      ]
    },
    {
      "cell_type": "code",
      "execution_count": 137,
      "metadata": {
        "colab": {
          "base_uri": "https://localhost:8080/"
        },
        "id": "cmSQAOQFTWyl",
        "outputId": "8ad63886-f9fd-43ce-eab5-427ff4019c66"
      },
      "outputs": [
        {
          "data": {
            "text/plain": [
              "tensor([[[ 0.0093,  0.0673,  0.0252, -0.0374],\n",
              "         [ 0.1294,  0.1667, -0.0559,  0.0133],\n",
              "         [ 0.1708,  0.1325, -0.0372, -0.0834],\n",
              "         [ 0.0334,  0.0355, -0.0599, -0.0371],\n",
              "         [ 0.0608,  0.1215, -0.0244, -0.0411]]], device='cuda:0',\n",
              "       grad_fn=<UnsafeViewBackward0>)"
            ]
          },
          "execution_count": 137,
          "metadata": {},
          "output_type": "execute_result"
        }
      ],
      "source": [
        "model_output"
      ]
    },
    {
      "cell_type": "code",
      "execution_count": 138,
      "metadata": {
        "id": "kssFoeeZTcCf"
      },
      "outputs": [],
      "source": [
        "gamma = con_gamma(t, sigma_1)"
      ]
    },
    {
      "cell_type": "code",
      "execution_count": 139,
      "metadata": {
        "colab": {
          "base_uri": "https://localhost:8080/"
        },
        "id": "iVw9W63yTdA1",
        "outputId": "ed0e4071-910d-437d-a015-e22058e4e772"
      },
      "outputs": [
        {
          "data": {
            "text/plain": [
              "tensor([[[ -3.5371, -25.5993,  -9.5701,  14.2270],\n",
              "         [-49.2143, -63.3940,  21.2572,  -5.0642],\n",
              "         [-64.9565, -50.4009,  14.1289,  31.7055],\n",
              "         [-12.6999, -13.4859,  22.7835,  14.0985],\n",
              "         [-23.1194, -46.1971,   9.2800,  15.6393]]], device='cuda:0',\n",
              "       grad_fn=<SubBackward0>)"
            ]
          },
          "execution_count": 139,
          "metadata": {},
          "output_type": "execute_result"
        }
      ],
      "source": [
        "con_reparameterized_x_pred(model_output, model_input, gamma)"
      ]
    },
    {
      "cell_type": "code",
      "execution_count": 140,
      "metadata": {},
      "outputs": [
        {
          "data": {
            "text/plain": [
              "tensor([[[0., 0., 0., 1.],\n",
              "         [0., 0., 1., 0.],\n",
              "         [0., 0., 1., 1.],\n",
              "         [0., 0., 1., 1.],\n",
              "         [0., 0., 1., 1.]]], device='cuda:0', grad_fn=<ClampBackward1>)"
            ]
          },
          "execution_count": 140,
          "metadata": {},
          "output_type": "execute_result"
        }
      ],
      "source": [
        "con_reparameterized_x_pred(model_output, model_input, gamma, 0, 1)"
      ]
    },
    {
      "cell_type": "code",
      "execution_count": 141,
      "metadata": {
        "colab": {
          "base_uri": "https://localhost:8080/"
        },
        "id": "b0jk2I6ECz3l",
        "outputId": "ca6700e8-4fc8-4826-a28f-eaa5a0a5cb67"
      },
      "outputs": [
        {
          "data": {
            "text/plain": [
              "tensor([6.9141e-06], device='cuda:0')"
            ]
          },
          "execution_count": 141,
          "metadata": {},
          "output_type": "execute_result"
        }
      ],
      "source": [
        "#(mu / gamma) - (scaling_factor * model_output)\n",
        "gamma"
      ]
    },
    {
      "cell_type": "code",
      "execution_count": 142,
      "metadata": {
        "colab": {
          "base_uri": "https://localhost:8080/"
        },
        "id": "X1JBM4UDMxN6",
        "outputId": "c5ff805f-c0ce-4579-9c14-32d148c5e51c"
      },
      "outputs": [
        {
          "name": "stdout",
          "output_type": "stream",
          "text": [
            "tensor([[[ 0.9307,  0.5888,  1.6692,  0.6300],\n",
            "         [ 0.2518,  1.1470, -0.6628,  0.2824],\n",
            "         [ 1.2191, -0.5268, -0.6808,  0.5767],\n",
            "         [ 1.0518,  0.4856,  0.8378, -0.9348],\n",
            "         [ 0.7424,  0.5963,  0.2455,  0.7438]]], device='cuda:0')\n",
            "tensor([[[ 7.2531e-01,  1.2313e+00,  1.2937e+00,  4.9912e-01],\n",
            "         [ 3.8305e-01,  2.6932e-01, -1.4542e-01,  6.8808e-04],\n",
            "         [ 7.5259e-01,  6.2199e-01,  2.1326e-01,  8.1611e-01],\n",
            "         [ 1.3298e-01,  1.7118e-01,  1.2807e-01,  2.7009e-01],\n",
            "         [ 7.3531e-01,  7.8519e-01,  5.5540e-01,  1.0507e+00]]],\n",
            "       device='cuda:0')\n",
            "tensor([[[1.1424, 0.9161, 0.9187, 0.7955],\n",
            "         [0.1648, 0.3420, 0.2065, 0.2149],\n",
            "         [0.4203, 0.6360, 0.5806, 1.1260],\n",
            "         [0.4972, 0.2970, 0.5307, 0.4561],\n",
            "         [0.8305, 0.5529, 0.7858, 0.9036]]], device='cuda:0')\n",
            "tensor([[[0.8733, 0.9907, 0.8828, 0.7806],\n",
            "         [0.2438, 0.4122, 0.2389, 0.3670],\n",
            "         [0.6909, 0.8470, 0.6791, 0.8961],\n",
            "         [0.4733, 0.5885, 0.6140, 0.5906],\n",
            "         [0.7719, 0.6861, 0.7474, 0.8617]]], device='cuda:0')\n",
            "tensor([[[0.8906, 0.9478, 0.8713, 0.8362],\n",
            "         [0.3487, 0.4437, 0.3705, 0.3721],\n",
            "         [0.7821, 0.7743, 0.7981, 0.8965],\n",
            "         [0.4808, 0.5677, 0.5989, 0.5228],\n",
            "         [0.8142, 0.7870, 0.8097, 0.8051]]], device='cuda:0')\n",
            "tensor([[[0.8749, 0.9348, 0.9080, 0.9088],\n",
            "         [0.4149, 0.4367, 0.4328, 0.4183],\n",
            "         [0.8168, 0.8159, 0.8507, 0.8662],\n",
            "         [0.5406, 0.5937, 0.5974, 0.5882],\n",
            "         [0.8068, 0.8262, 0.8371, 0.8173]]], device='cuda:0')\n",
            "tensor([[[0.8977, 0.8993, 0.9146, 0.9294],\n",
            "         [0.4199, 0.4257, 0.4497, 0.4502],\n",
            "         [0.8305, 0.8516, 0.8645, 0.8841],\n",
            "         [0.5730, 0.5879, 0.5906, 0.5995],\n",
            "         [0.8170, 0.8326, 0.8322, 0.8443]]], device='cuda:0')\n",
            "tensor([[[0.8916, 0.8954, 0.9064, 0.9325],\n",
            "         [0.4215, 0.4325, 0.4484, 0.4641],\n",
            "         [0.8439, 0.8595, 0.8706, 0.8853],\n",
            "         [0.5859, 0.5849, 0.5943, 0.6073],\n",
            "         [0.8143, 0.8354, 0.8394, 0.8504]]], device='cuda:0')\n",
            "tensor([[[0.8877, 0.8993, 0.9140, 0.9337],\n",
            "         [0.4278, 0.4410, 0.4485, 0.4674],\n",
            "         [0.8437, 0.8636, 0.8694, 0.8894],\n",
            "         [0.5793, 0.5917, 0.6081, 0.6194],\n",
            "         [0.8250, 0.8373, 0.8427, 0.8588]]], device='cuda:0')\n"
          ]
        }
      ],
      "source": [
        "with torch.no_grad():\n",
        "  for i in range(1, n):\n",
        "    if i % 10 == 0:\n",
        "      print(model_input)\n",
        "    cur_i = torch.tensor([i]).to(device)\n",
        "    cur_n = torch.tensor([n]).to(device)\n",
        "    t = con_t(cur_i, cur_n)\n",
        "    gamma = con_gamma(t, sigma_1)\n",
        "    model_output = model(model_input, t)\n",
        "    x_prime = con_reparameterized_x_pred(model_output, model_input, gamma, 0, 1)  # since we know the truth is in [0, 1]\n",
        "    model_input, precision = con_bayesian_inference(model_input, x_prime, sigma_1, cur_i, cur_n, precision)"
      ]
    },
    {
      "cell_type": "code",
      "execution_count": 143,
      "metadata": {
        "colab": {
          "base_uri": "https://localhost:8080/"
        },
        "id": "48B3LaHaM0fI",
        "outputId": "8743b37d-71c9-4a57-8708-d6340523efa6"
      },
      "outputs": [
        {
          "data": {
            "text/plain": [
              "tensor([[[0.8773, 0.9148, 0.8901, 0.9296],\n",
              "         [0.4317, 0.4387, 0.4463, 0.4849],\n",
              "         [0.8607, 0.8507, 0.8758, 0.8928],\n",
              "         [0.5919, 0.6092, 0.6082, 0.6198],\n",
              "         [0.8301, 0.8490, 0.8578, 0.8693]]], device='cuda:0')"
            ]
          },
          "execution_count": 143,
          "metadata": {},
          "output_type": "execute_result"
        }
      ],
      "source": [
        "x_prime"
      ]
    },
    {
      "cell_type": "code",
      "execution_count": null,
      "metadata": {
        "id": "bhbs3cG1Wxsy"
      },
      "outputs": [],
      "source": []
    }
  ],
  "metadata": {
    "accelerator": "GPU",
    "colab": {
      "gpuType": "T4",
      "provenance": []
    },
    "kernelspec": {
      "display_name": ".venv",
      "language": "python",
      "name": "python3"
    },
    "language_info": {
      "codemirror_mode": {
        "name": "ipython",
        "version": 3
      },
      "file_extension": ".py",
      "mimetype": "text/x-python",
      "name": "python",
      "nbconvert_exporter": "python",
      "pygments_lexer": "ipython3",
      "version": "3.11.13"
    },
    "widgets": {
      "application/vnd.jupyter.widget-state+json": {
        "2087d379646249e5ba8e4d142074ce68": {
          "model_module": "@jupyter-widgets/controls",
          "model_module_version": "1.5.0",
          "model_name": "HTMLModel",
          "state": {
            "_dom_classes": [],
            "_model_module": "@jupyter-widgets/controls",
            "_model_module_version": "1.5.0",
            "_model_name": "HTMLModel",
            "_view_count": null,
            "_view_module": "@jupyter-widgets/controls",
            "_view_module_version": "1.5.0",
            "_view_name": "HTMLView",
            "description": "",
            "description_tooltip": null,
            "layout": "IPY_MODEL_d98531bfd8a243bd8f3b61d2cbdd8e2b",
            "placeholder": "​",
            "style": "IPY_MODEL_4bf9f46052ab47bca8f438cba418b38a",
            "value": "100%"
          }
        },
        "4bf9f46052ab47bca8f438cba418b38a": {
          "model_module": "@jupyter-widgets/controls",
          "model_module_version": "1.5.0",
          "model_name": "DescriptionStyleModel",
          "state": {
            "_model_module": "@jupyter-widgets/controls",
            "_model_module_version": "1.5.0",
            "_model_name": "DescriptionStyleModel",
            "_view_count": null,
            "_view_module": "@jupyter-widgets/base",
            "_view_module_version": "1.2.0",
            "_view_name": "StyleView",
            "description_width": ""
          }
        },
        "4bfed355e10d43d9b76ee2ab39e31ed2": {
          "model_module": "@jupyter-widgets/controls",
          "model_module_version": "1.5.0",
          "model_name": "HBoxModel",
          "state": {
            "_dom_classes": [],
            "_model_module": "@jupyter-widgets/controls",
            "_model_module_version": "1.5.0",
            "_model_name": "HBoxModel",
            "_view_count": null,
            "_view_module": "@jupyter-widgets/controls",
            "_view_module_version": "1.5.0",
            "_view_name": "HBoxView",
            "box_style": "",
            "children": [
              "IPY_MODEL_2087d379646249e5ba8e4d142074ce68",
              "IPY_MODEL_8cb8683bbfe64e9299e46dbc26a61a79",
              "IPY_MODEL_66a7160e82374b3b95fdfe5bdcac6565"
            ],
            "layout": "IPY_MODEL_698565e9fffe4fd2af0d79ec3d611b96"
          }
        },
        "62a2d467d4e94b64a01aec4bc76c3d32": {
          "model_module": "@jupyter-widgets/base",
          "model_module_version": "1.2.0",
          "model_name": "LayoutModel",
          "state": {
            "_model_module": "@jupyter-widgets/base",
            "_model_module_version": "1.2.0",
            "_model_name": "LayoutModel",
            "_view_count": null,
            "_view_module": "@jupyter-widgets/base",
            "_view_module_version": "1.2.0",
            "_view_name": "LayoutView",
            "align_content": null,
            "align_items": null,
            "align_self": null,
            "border": null,
            "bottom": null,
            "display": null,
            "flex": null,
            "flex_flow": null,
            "grid_area": null,
            "grid_auto_columns": null,
            "grid_auto_flow": null,
            "grid_auto_rows": null,
            "grid_column": null,
            "grid_gap": null,
            "grid_row": null,
            "grid_template_areas": null,
            "grid_template_columns": null,
            "grid_template_rows": null,
            "height": null,
            "justify_content": null,
            "justify_items": null,
            "left": null,
            "margin": null,
            "max_height": null,
            "max_width": null,
            "min_height": null,
            "min_width": null,
            "object_fit": null,
            "object_position": null,
            "order": null,
            "overflow": null,
            "overflow_x": null,
            "overflow_y": null,
            "padding": null,
            "right": null,
            "top": null,
            "visibility": null,
            "width": null
          }
        },
        "66a7160e82374b3b95fdfe5bdcac6565": {
          "model_module": "@jupyter-widgets/controls",
          "model_module_version": "1.5.0",
          "model_name": "HTMLModel",
          "state": {
            "_dom_classes": [],
            "_model_module": "@jupyter-widgets/controls",
            "_model_module_version": "1.5.0",
            "_model_name": "HTMLModel",
            "_view_count": null,
            "_view_module": "@jupyter-widgets/controls",
            "_view_module_version": "1.5.0",
            "_view_name": "HTMLView",
            "description": "",
            "description_tooltip": null,
            "layout": "IPY_MODEL_8e48c70514c94995b94bc0d72f2607a3",
            "placeholder": "​",
            "style": "IPY_MODEL_9f4c78a9cb054704a57c45780eda83af",
            "value": " 20000/20000 [02:56&lt;00:00, 120.50it/s]"
          }
        },
        "698565e9fffe4fd2af0d79ec3d611b96": {
          "model_module": "@jupyter-widgets/base",
          "model_module_version": "1.2.0",
          "model_name": "LayoutModel",
          "state": {
            "_model_module": "@jupyter-widgets/base",
            "_model_module_version": "1.2.0",
            "_model_name": "LayoutModel",
            "_view_count": null,
            "_view_module": "@jupyter-widgets/base",
            "_view_module_version": "1.2.0",
            "_view_name": "LayoutView",
            "align_content": null,
            "align_items": null,
            "align_self": null,
            "border": null,
            "bottom": null,
            "display": null,
            "flex": null,
            "flex_flow": null,
            "grid_area": null,
            "grid_auto_columns": null,
            "grid_auto_flow": null,
            "grid_auto_rows": null,
            "grid_column": null,
            "grid_gap": null,
            "grid_row": null,
            "grid_template_areas": null,
            "grid_template_columns": null,
            "grid_template_rows": null,
            "height": null,
            "justify_content": null,
            "justify_items": null,
            "left": null,
            "margin": null,
            "max_height": null,
            "max_width": null,
            "min_height": null,
            "min_width": null,
            "object_fit": null,
            "object_position": null,
            "order": null,
            "overflow": null,
            "overflow_x": null,
            "overflow_y": null,
            "padding": null,
            "right": null,
            "top": null,
            "visibility": null,
            "width": null
          }
        },
        "8cb8683bbfe64e9299e46dbc26a61a79": {
          "model_module": "@jupyter-widgets/controls",
          "model_module_version": "1.5.0",
          "model_name": "FloatProgressModel",
          "state": {
            "_dom_classes": [],
            "_model_module": "@jupyter-widgets/controls",
            "_model_module_version": "1.5.0",
            "_model_name": "FloatProgressModel",
            "_view_count": null,
            "_view_module": "@jupyter-widgets/controls",
            "_view_module_version": "1.5.0",
            "_view_name": "ProgressView",
            "bar_style": "success",
            "description": "",
            "description_tooltip": null,
            "layout": "IPY_MODEL_62a2d467d4e94b64a01aec4bc76c3d32",
            "max": 20000,
            "min": 0,
            "orientation": "horizontal",
            "style": "IPY_MODEL_fcb4eaeab0574aa982b3e56f1047e610",
            "value": 20000
          }
        },
        "8e48c70514c94995b94bc0d72f2607a3": {
          "model_module": "@jupyter-widgets/base",
          "model_module_version": "1.2.0",
          "model_name": "LayoutModel",
          "state": {
            "_model_module": "@jupyter-widgets/base",
            "_model_module_version": "1.2.0",
            "_model_name": "LayoutModel",
            "_view_count": null,
            "_view_module": "@jupyter-widgets/base",
            "_view_module_version": "1.2.0",
            "_view_name": "LayoutView",
            "align_content": null,
            "align_items": null,
            "align_self": null,
            "border": null,
            "bottom": null,
            "display": null,
            "flex": null,
            "flex_flow": null,
            "grid_area": null,
            "grid_auto_columns": null,
            "grid_auto_flow": null,
            "grid_auto_rows": null,
            "grid_column": null,
            "grid_gap": null,
            "grid_row": null,
            "grid_template_areas": null,
            "grid_template_columns": null,
            "grid_template_rows": null,
            "height": null,
            "justify_content": null,
            "justify_items": null,
            "left": null,
            "margin": null,
            "max_height": null,
            "max_width": null,
            "min_height": null,
            "min_width": null,
            "object_fit": null,
            "object_position": null,
            "order": null,
            "overflow": null,
            "overflow_x": null,
            "overflow_y": null,
            "padding": null,
            "right": null,
            "top": null,
            "visibility": null,
            "width": null
          }
        },
        "9f4c78a9cb054704a57c45780eda83af": {
          "model_module": "@jupyter-widgets/controls",
          "model_module_version": "1.5.0",
          "model_name": "DescriptionStyleModel",
          "state": {
            "_model_module": "@jupyter-widgets/controls",
            "_model_module_version": "1.5.0",
            "_model_name": "DescriptionStyleModel",
            "_view_count": null,
            "_view_module": "@jupyter-widgets/base",
            "_view_module_version": "1.2.0",
            "_view_name": "StyleView",
            "description_width": ""
          }
        },
        "d98531bfd8a243bd8f3b61d2cbdd8e2b": {
          "model_module": "@jupyter-widgets/base",
          "model_module_version": "1.2.0",
          "model_name": "LayoutModel",
          "state": {
            "_model_module": "@jupyter-widgets/base",
            "_model_module_version": "1.2.0",
            "_model_name": "LayoutModel",
            "_view_count": null,
            "_view_module": "@jupyter-widgets/base",
            "_view_module_version": "1.2.0",
            "_view_name": "LayoutView",
            "align_content": null,
            "align_items": null,
            "align_self": null,
            "border": null,
            "bottom": null,
            "display": null,
            "flex": null,
            "flex_flow": null,
            "grid_area": null,
            "grid_auto_columns": null,
            "grid_auto_flow": null,
            "grid_auto_rows": null,
            "grid_column": null,
            "grid_gap": null,
            "grid_row": null,
            "grid_template_areas": null,
            "grid_template_columns": null,
            "grid_template_rows": null,
            "height": null,
            "justify_content": null,
            "justify_items": null,
            "left": null,
            "margin": null,
            "max_height": null,
            "max_width": null,
            "min_height": null,
            "min_width": null,
            "object_fit": null,
            "object_position": null,
            "order": null,
            "overflow": null,
            "overflow_x": null,
            "overflow_y": null,
            "padding": null,
            "right": null,
            "top": null,
            "visibility": null,
            "width": null
          }
        },
        "fcb4eaeab0574aa982b3e56f1047e610": {
          "model_module": "@jupyter-widgets/controls",
          "model_module_version": "1.5.0",
          "model_name": "ProgressStyleModel",
          "state": {
            "_model_module": "@jupyter-widgets/controls",
            "_model_module_version": "1.5.0",
            "_model_name": "ProgressStyleModel",
            "_view_count": null,
            "_view_module": "@jupyter-widgets/base",
            "_view_module_version": "1.2.0",
            "_view_name": "StyleView",
            "bar_color": null,
            "description_width": ""
          }
        }
      }
    }
  },
  "nbformat": 4,
  "nbformat_minor": 0
}
