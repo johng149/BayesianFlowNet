{
  "nbformat": 4,
  "nbformat_minor": 0,
  "metadata": {
    "colab": {
      "provenance": [],
      "gpuType": "T4"
    },
    "kernelspec": {
      "name": "python3",
      "display_name": "Python 3"
    },
    "language_info": {
      "name": "python"
    },
    "accelerator": "GPU",
    "widgets": {
      "application/vnd.jupyter.widget-state+json": {
        "9d4475da5aad4d65baa75fd4b192f659": {
          "model_module": "@jupyter-widgets/controls",
          "model_name": "HBoxModel",
          "model_module_version": "1.5.0",
          "state": {
            "_dom_classes": [],
            "_model_module": "@jupyter-widgets/controls",
            "_model_module_version": "1.5.0",
            "_model_name": "HBoxModel",
            "_view_count": null,
            "_view_module": "@jupyter-widgets/controls",
            "_view_module_version": "1.5.0",
            "_view_name": "HBoxView",
            "box_style": "",
            "children": [
              "IPY_MODEL_3b1ef3c7ca40421c915207741aa076c6",
              "IPY_MODEL_a465a86a06d34b318cbd4584b5f60987",
              "IPY_MODEL_b7b7def07a784538a54b48cdbc3b75bb"
            ],
            "layout": "IPY_MODEL_01323090cdb44147be02c421b701ed13"
          }
        },
        "3b1ef3c7ca40421c915207741aa076c6": {
          "model_module": "@jupyter-widgets/controls",
          "model_name": "HTMLModel",
          "model_module_version": "1.5.0",
          "state": {
            "_dom_classes": [],
            "_model_module": "@jupyter-widgets/controls",
            "_model_module_version": "1.5.0",
            "_model_name": "HTMLModel",
            "_view_count": null,
            "_view_module": "@jupyter-widgets/controls",
            "_view_module_version": "1.5.0",
            "_view_name": "HTMLView",
            "description": "",
            "description_tooltip": null,
            "layout": "IPY_MODEL_0b7127ecafe44949b4ca8aa247cb4e21",
            "placeholder": "​",
            "style": "IPY_MODEL_2b575013d1014c17bd9142b5bf56877c",
            "value": "100%"
          }
        },
        "a465a86a06d34b318cbd4584b5f60987": {
          "model_module": "@jupyter-widgets/controls",
          "model_name": "FloatProgressModel",
          "model_module_version": "1.5.0",
          "state": {
            "_dom_classes": [],
            "_model_module": "@jupyter-widgets/controls",
            "_model_module_version": "1.5.0",
            "_model_name": "FloatProgressModel",
            "_view_count": null,
            "_view_module": "@jupyter-widgets/controls",
            "_view_module_version": "1.5.0",
            "_view_name": "ProgressView",
            "bar_style": "success",
            "description": "",
            "description_tooltip": null,
            "layout": "IPY_MODEL_40b1c8ccbb7847dea580ee9846a7fc60",
            "max": 1000,
            "min": 0,
            "orientation": "horizontal",
            "style": "IPY_MODEL_78ec4a53562b4345847a2f6b1aa798d4",
            "value": 1000
          }
        },
        "b7b7def07a784538a54b48cdbc3b75bb": {
          "model_module": "@jupyter-widgets/controls",
          "model_name": "HTMLModel",
          "model_module_version": "1.5.0",
          "state": {
            "_dom_classes": [],
            "_model_module": "@jupyter-widgets/controls",
            "_model_module_version": "1.5.0",
            "_model_name": "HTMLModel",
            "_view_count": null,
            "_view_module": "@jupyter-widgets/controls",
            "_view_module_version": "1.5.0",
            "_view_name": "HTMLView",
            "description": "",
            "description_tooltip": null,
            "layout": "IPY_MODEL_4a2f7f4c288e49669282c0750cd132a9",
            "placeholder": "​",
            "style": "IPY_MODEL_1a0b6d19e53044879407578d6037f780",
            "value": " 1000/1000 [00:45&lt;00:00, 24.99it/s]"
          }
        },
        "01323090cdb44147be02c421b701ed13": {
          "model_module": "@jupyter-widgets/base",
          "model_name": "LayoutModel",
          "model_module_version": "1.2.0",
          "state": {
            "_model_module": "@jupyter-widgets/base",
            "_model_module_version": "1.2.0",
            "_model_name": "LayoutModel",
            "_view_count": null,
            "_view_module": "@jupyter-widgets/base",
            "_view_module_version": "1.2.0",
            "_view_name": "LayoutView",
            "align_content": null,
            "align_items": null,
            "align_self": null,
            "border": null,
            "bottom": null,
            "display": null,
            "flex": null,
            "flex_flow": null,
            "grid_area": null,
            "grid_auto_columns": null,
            "grid_auto_flow": null,
            "grid_auto_rows": null,
            "grid_column": null,
            "grid_gap": null,
            "grid_row": null,
            "grid_template_areas": null,
            "grid_template_columns": null,
            "grid_template_rows": null,
            "height": null,
            "justify_content": null,
            "justify_items": null,
            "left": null,
            "margin": null,
            "max_height": null,
            "max_width": null,
            "min_height": null,
            "min_width": null,
            "object_fit": null,
            "object_position": null,
            "order": null,
            "overflow": null,
            "overflow_x": null,
            "overflow_y": null,
            "padding": null,
            "right": null,
            "top": null,
            "visibility": null,
            "width": null
          }
        },
        "0b7127ecafe44949b4ca8aa247cb4e21": {
          "model_module": "@jupyter-widgets/base",
          "model_name": "LayoutModel",
          "model_module_version": "1.2.0",
          "state": {
            "_model_module": "@jupyter-widgets/base",
            "_model_module_version": "1.2.0",
            "_model_name": "LayoutModel",
            "_view_count": null,
            "_view_module": "@jupyter-widgets/base",
            "_view_module_version": "1.2.0",
            "_view_name": "LayoutView",
            "align_content": null,
            "align_items": null,
            "align_self": null,
            "border": null,
            "bottom": null,
            "display": null,
            "flex": null,
            "flex_flow": null,
            "grid_area": null,
            "grid_auto_columns": null,
            "grid_auto_flow": null,
            "grid_auto_rows": null,
            "grid_column": null,
            "grid_gap": null,
            "grid_row": null,
            "grid_template_areas": null,
            "grid_template_columns": null,
            "grid_template_rows": null,
            "height": null,
            "justify_content": null,
            "justify_items": null,
            "left": null,
            "margin": null,
            "max_height": null,
            "max_width": null,
            "min_height": null,
            "min_width": null,
            "object_fit": null,
            "object_position": null,
            "order": null,
            "overflow": null,
            "overflow_x": null,
            "overflow_y": null,
            "padding": null,
            "right": null,
            "top": null,
            "visibility": null,
            "width": null
          }
        },
        "2b575013d1014c17bd9142b5bf56877c": {
          "model_module": "@jupyter-widgets/controls",
          "model_name": "DescriptionStyleModel",
          "model_module_version": "1.5.0",
          "state": {
            "_model_module": "@jupyter-widgets/controls",
            "_model_module_version": "1.5.0",
            "_model_name": "DescriptionStyleModel",
            "_view_count": null,
            "_view_module": "@jupyter-widgets/base",
            "_view_module_version": "1.2.0",
            "_view_name": "StyleView",
            "description_width": ""
          }
        },
        "40b1c8ccbb7847dea580ee9846a7fc60": {
          "model_module": "@jupyter-widgets/base",
          "model_name": "LayoutModel",
          "model_module_version": "1.2.0",
          "state": {
            "_model_module": "@jupyter-widgets/base",
            "_model_module_version": "1.2.0",
            "_model_name": "LayoutModel",
            "_view_count": null,
            "_view_module": "@jupyter-widgets/base",
            "_view_module_version": "1.2.0",
            "_view_name": "LayoutView",
            "align_content": null,
            "align_items": null,
            "align_self": null,
            "border": null,
            "bottom": null,
            "display": null,
            "flex": null,
            "flex_flow": null,
            "grid_area": null,
            "grid_auto_columns": null,
            "grid_auto_flow": null,
            "grid_auto_rows": null,
            "grid_column": null,
            "grid_gap": null,
            "grid_row": null,
            "grid_template_areas": null,
            "grid_template_columns": null,
            "grid_template_rows": null,
            "height": null,
            "justify_content": null,
            "justify_items": null,
            "left": null,
            "margin": null,
            "max_height": null,
            "max_width": null,
            "min_height": null,
            "min_width": null,
            "object_fit": null,
            "object_position": null,
            "order": null,
            "overflow": null,
            "overflow_x": null,
            "overflow_y": null,
            "padding": null,
            "right": null,
            "top": null,
            "visibility": null,
            "width": null
          }
        },
        "78ec4a53562b4345847a2f6b1aa798d4": {
          "model_module": "@jupyter-widgets/controls",
          "model_name": "ProgressStyleModel",
          "model_module_version": "1.5.0",
          "state": {
            "_model_module": "@jupyter-widgets/controls",
            "_model_module_version": "1.5.0",
            "_model_name": "ProgressStyleModel",
            "_view_count": null,
            "_view_module": "@jupyter-widgets/base",
            "_view_module_version": "1.2.0",
            "_view_name": "StyleView",
            "bar_color": null,
            "description_width": ""
          }
        },
        "4a2f7f4c288e49669282c0750cd132a9": {
          "model_module": "@jupyter-widgets/base",
          "model_name": "LayoutModel",
          "model_module_version": "1.2.0",
          "state": {
            "_model_module": "@jupyter-widgets/base",
            "_model_module_version": "1.2.0",
            "_model_name": "LayoutModel",
            "_view_count": null,
            "_view_module": "@jupyter-widgets/base",
            "_view_module_version": "1.2.0",
            "_view_name": "LayoutView",
            "align_content": null,
            "align_items": null,
            "align_self": null,
            "border": null,
            "bottom": null,
            "display": null,
            "flex": null,
            "flex_flow": null,
            "grid_area": null,
            "grid_auto_columns": null,
            "grid_auto_flow": null,
            "grid_auto_rows": null,
            "grid_column": null,
            "grid_gap": null,
            "grid_row": null,
            "grid_template_areas": null,
            "grid_template_columns": null,
            "grid_template_rows": null,
            "height": null,
            "justify_content": null,
            "justify_items": null,
            "left": null,
            "margin": null,
            "max_height": null,
            "max_width": null,
            "min_height": null,
            "min_width": null,
            "object_fit": null,
            "object_position": null,
            "order": null,
            "overflow": null,
            "overflow_x": null,
            "overflow_y": null,
            "padding": null,
            "right": null,
            "top": null,
            "visibility": null,
            "width": null
          }
        },
        "1a0b6d19e53044879407578d6037f780": {
          "model_module": "@jupyter-widgets/controls",
          "model_name": "DescriptionStyleModel",
          "model_module_version": "1.5.0",
          "state": {
            "_model_module": "@jupyter-widgets/controls",
            "_model_module_version": "1.5.0",
            "_model_name": "DescriptionStyleModel",
            "_view_count": null,
            "_view_module": "@jupyter-widgets/base",
            "_view_module_version": "1.2.0",
            "_view_name": "StyleView",
            "description_width": ""
          }
        }
      }
    }
  },
  "cells": [
    {
      "cell_type": "code",
      "execution_count": null,
      "metadata": {
        "id": "G2BIVZUor_4Q"
      },
      "outputs": [],
      "source": [
        "import torch\n",
        "from torch import Tensor\n",
        "from torch.nn import functional as F\n",
        "from torch import nn\n",
        "from torch.distributions.categorical import Categorical\n",
        "from torch.utils.data import Dataset, DataLoader\n",
        "from torch.optim import AdamW\n",
        "import numpy as np\n",
        "import matplotlib.pyplot as plt\n",
        "import random\n",
        "from tqdm.auto import tqdm"
      ]
    },
    {
      "cell_type": "markdown",
      "source": [
        "## Discrete Case Helper Functions"
      ],
      "metadata": {
        "id": "dRhno5aLsJEX"
      }
    },
    {
      "cell_type": "code",
      "source": [
        "def dis_beta_t(beta_1, t):\n",
        "  assert torch.all(t <= 1.0), \"all times in `t` must be at most 1\"\n",
        "  assert torch.all(t >= 0.0), \"all times in `t` must be at least 0\"\n",
        "  return beta_1 * (t**2)\n",
        "\n",
        "def dis_y_distribution(beta: Tensor, K: int, kron_x: Tensor):\n",
        "  beta_reshaped = beta.view(-1, 1, 1)\n",
        "  mean = beta_reshaped * (K * kron_x - 1)\n",
        "  variance = beta_reshaped * K\n",
        "  eps = torch.normal(0, 1, kron_x.shape, device=beta.device)\n",
        "  return mean + variance * eps\n",
        "\n",
        "def dis_t(i: Tensor, n: Tensor, minimum: float=1e-6):\n",
        "  assert torch.all(i <= n), \"i must be less than or equal to n\"\n",
        "  assert torch.all(n > 0), \"n must be at least 1\"\n",
        "  assert torch.all(i > 0), \"i must be at least 1\"\n",
        "  return torch.clamp((i - 1) / n, min=minimum)\n",
        "\n",
        "def dis_theta(y_prime, scaled=True):\n",
        "  theta = F.softmax(y_prime, dim=-1)\n",
        "  if scaled:\n",
        "    theta = 2 * theta - 1\n",
        "  return theta\n",
        "\n",
        "def dis_loss(K: int, beta_1: Tensor, t: Tensor, batch_size: int, truth: Tensor, model_output_probs: Tensor | None = None, model_output_logits: Tensor | None = None):\n",
        "  \"\"\"\n",
        "  Can accept either the raw model output in the form of logits or a softmax\n",
        "  version of the model output. Only one of the two should be given, if both\n",
        "  are given, will fail assertion\n",
        "  \"\"\"\n",
        "  assert model_output_probs is None or model_output_logits is None, \"Give only model output in the form of logits or probability distribution, not both\"\n",
        "  assert (model_output_probs is None or model_output_probs.shape == truth.shape) and (model_output_logits is None or model_output_logits.shape == truth.shape), \"Model output shape should match that of ground truth\"\n",
        "\n",
        "  batch_size, seq_len, classes = truth.shape\n",
        "  model_output = model_output_probs if model_output_probs is not None else torch.softmax(model_output_logits, dim=-1)\n",
        "  result = torch.sum(K * beta_1 * t * torch.sum((truth - model_output) ** 2) / (batch_size**2))\n",
        "  return result / seq_len"
      ],
      "metadata": {
        "id": "lxozJWSTsEZQ"
      },
      "execution_count": null,
      "outputs": []
    },
    {
      "cell_type": "markdown",
      "source": [
        "## Discrete case input data"
      ],
      "metadata": {
        "id": "CXEEULDIsTMa"
      }
    },
    {
      "cell_type": "code",
      "source": [
        "discrete_truth_1 = torch.tensor([\n",
        "    [\n",
        "        0, 1, 0\n",
        "    ],\n",
        "    [\n",
        "        1, 0, 0\n",
        "    ]\n",
        "])\n",
        "discrete_truth_2 = torch.tensor([\n",
        "    [\n",
        "        0, 0, 1\n",
        "    ],\n",
        "    [\n",
        "        0, 1, 0\n",
        "    ]\n",
        "])\n",
        "discrete_truth = torch.stack([discrete_truth_1, discrete_truth_2])\n",
        "\n",
        "dis_batch_size, dis_seq_len, K = discrete_truth.shape\n",
        "\n",
        "dis_beta_1 = torch.tensor([4, 3])\n",
        "\n",
        "n = torch.tensor([10, 12])\n",
        "i = torch.tensor([1, 3])\n",
        "\n",
        "t = dis_t(i, n)\n",
        "\n",
        "beta = dis_beta_t(dis_beta_1, t)\n",
        "\n",
        "y_prime = dis_y_distribution(beta, K, discrete_truth)\n",
        "\n",
        "theta = dis_theta(y_prime)"
      ],
      "metadata": {
        "id": "O67kACkPsRd2"
      },
      "execution_count": null,
      "outputs": []
    },
    {
      "cell_type": "markdown",
      "source": [
        "## Discrete case model"
      ],
      "metadata": {
        "id": "MPz12RUusz-x"
      }
    },
    {
      "cell_type": "code",
      "source": [
        "class DiscreteModel(nn.Module):\n",
        "  def __init__(self, max_seq_len: int, K: int, hidden_dim: int, num_heads: int, layers: int = 3, dropout: float = 0.1):\n",
        "    super().__init__()\n",
        "    assert hidden_dim % num_heads == 0, \"hidden_dim must be divisble by num_heads\"\n",
        "    self.emb = nn.Parameter(torch.randn(K, hidden_dim))\n",
        "    self.pos_emb = nn.Parameter(torch.randn(max_seq_len, hidden_dim))\n",
        "    self.time_vec = nn.Parameter(torch.randn(1, hidden_dim))\n",
        "    self.layers = nn.ModuleList(\n",
        "        [\n",
        "            nn.TransformerEncoderLayer(\n",
        "                hidden_dim,\n",
        "                num_heads,\n",
        "                hidden_dim*4,\n",
        "                dropout,\n",
        "                batch_first=True,\n",
        "                bias=False\n",
        "                ) for i in range(layers)\n",
        "        ]\n",
        "    )\n",
        "    self.classifier = nn.Parameter(torch.randn(hidden_dim, K))\n",
        "\n",
        "  def token_emb(self, x):\n",
        "    return x @ self.emb\n",
        "\n",
        "  def positional_emb(self, x):\n",
        "    return x + self.pos_emb[:x.shape[1]]\n",
        "\n",
        "  def time_emb(self, x, t):\n",
        "    assert t.ndim == 1, \"time vector `t` should be vector of length batch_size\"\n",
        "    # we need to first unsqueeze t to get it from shape (batch_size,)\n",
        "    # to (batch_size, 1) so it is compatible with the time_vec's (1, hidden_dim)\n",
        "    # the result is (batch_size, hidden_dim) however the x is\n",
        "    # (batch_size, seq_len, hidden_dim) so we need a second unsqueeze\n",
        "    return (t.unsqueeze(-1) @ self.time_vec).unsqueeze(-2) + x\n",
        "\n",
        "  def forward(self, x, t):\n",
        "    x = self.token_emb(x)\n",
        "    x = self.positional_emb(x)\n",
        "    x = self.time_emb(x, t)\n",
        "    for i, l in enumerate(self.layers):\n",
        "      x = l.forward(x)\n",
        "    return x @ self.classifier"
      ],
      "metadata": {
        "id": "VoVju7XEstJJ"
      },
      "execution_count": null,
      "outputs": []
    },
    {
      "cell_type": "code",
      "source": [
        "max_seq_len = dis_seq_len\n",
        "hidden_dim = 64\n",
        "num_heads = 8"
      ],
      "metadata": {
        "id": "EQqaZCENs2Ue"
      },
      "execution_count": null,
      "outputs": []
    },
    {
      "cell_type": "code",
      "source": [
        "dis_model = DiscreteModel(max_seq_len, K, hidden_dim, num_heads)"
      ],
      "metadata": {
        "id": "Z3F0Ypj5s5iE"
      },
      "execution_count": null,
      "outputs": []
    },
    {
      "cell_type": "code",
      "source": [
        "dis_output = dis_model.forward(theta, t)"
      ],
      "metadata": {
        "id": "UFqbPdmMs6mC"
      },
      "execution_count": null,
      "outputs": []
    },
    {
      "cell_type": "code",
      "source": [
        "dis_output"
      ],
      "metadata": {
        "colab": {
          "base_uri": "https://localhost:8080/"
        },
        "id": "ymePyNNltFtq",
        "outputId": "51d626bf-9928-4503-f30b-2112423693b9"
      },
      "execution_count": null,
      "outputs": [
        {
          "output_type": "execute_result",
          "data": {
            "text/plain": [
              "tensor([[[ 5.7887,  8.0012, -9.2208],\n",
              "         [-0.5863, -1.3415,  2.3265]],\n",
              "\n",
              "        [[ 3.0422, -3.2997, -7.9302],\n",
              "         [-4.3501, -0.6541,  0.3451]]], grad_fn=<UnsafeViewBackward0>)"
            ]
          },
          "metadata": {},
          "execution_count": 8
        }
      ]
    },
    {
      "cell_type": "code",
      "source": [
        "dis_output_probs = torch.softmax(dis_output, dim=-1)"
      ],
      "metadata": {
        "id": "xeRXVdUStGgd"
      },
      "execution_count": null,
      "outputs": []
    },
    {
      "cell_type": "code",
      "source": [
        "dis_output_probs"
      ],
      "metadata": {
        "colab": {
          "base_uri": "https://localhost:8080/"
        },
        "id": "epLqJM0LtIo1",
        "outputId": "b9bd2210-e50e-403e-f98e-3d5481f8fea2"
      },
      "execution_count": null,
      "outputs": [
        {
          "output_type": "execute_result",
          "data": {
            "text/plain": [
              "tensor([[[9.8639e-02, 9.0136e-01, 2.9886e-08],\n",
              "         [5.0307e-02, 2.3640e-02, 9.2605e-01]],\n",
              "\n",
              "        [[9.9823e-01, 1.7578e-03, 1.7139e-05],\n",
              "         [6.6358e-03, 2.6732e-01, 7.2605e-01]]], grad_fn=<SoftmaxBackward0>)"
            ]
          },
          "metadata": {},
          "execution_count": 10
        }
      ]
    },
    {
      "cell_type": "code",
      "source": [
        "dis_loss(K, dis_beta_1, t, dis_batch_size, discrete_truth, model_output_logits=dis_output)"
      ],
      "metadata": {
        "colab": {
          "base_uri": "https://localhost:8080/"
        },
        "id": "33MBrmwT-L3C",
        "outputId": "4fa178e7-8dd4-4930-8551-569d30d75e5e"
      },
      "execution_count": null,
      "outputs": [
        {
          "output_type": "execute_result",
          "data": {
            "text/plain": [
              "tensor(0.9075, grad_fn=<DivBackward0>)"
            ]
          },
          "metadata": {},
          "execution_count": 11
        }
      ]
    },
    {
      "cell_type": "markdown",
      "source": [
        "## Discrete update step"
      ],
      "metadata": {
        "id": "dCgYoeCu-rzR"
      }
    },
    {
      "cell_type": "code",
      "source": [
        "def dis_accuracy(i, n, beta_1):\n",
        "  assert n > 0, \"must have at least 1 inference step\"\n",
        "  assert i > 0, \"must be at the first inference step or higher\"\n",
        "  assert i <= n, \"current inference step must be less than or equal to max inference steps\"\n",
        "  return beta_1 * (2 * i - 1) / (n ** 2)"
      ],
      "metadata": {
        "id": "nro29wQD-nLn"
      },
      "execution_count": null,
      "outputs": []
    },
    {
      "cell_type": "code",
      "source": [
        "def dis_sample_model_output(model_output, one_hot: bool=True):\n",
        "  batch_size, seq_len, classes = model_output.shape\n",
        "  dist = Categorical(logits=model_output)\n",
        "  samples = dist.sample()\n",
        "  if one_hot:\n",
        "    samples = F.one_hot(samples, classes)\n",
        "  return samples"
      ],
      "metadata": {
        "id": "fQKXjNV0-1kq"
      },
      "execution_count": null,
      "outputs": []
    },
    {
      "cell_type": "code",
      "source": [
        "def dis_y(sampled_one_hot, alpha, use_variance=True):\n",
        "  # from some brief tests, using the variance results in a smoother decrease\n",
        "  # in error, while the standard deviation is more erratic but occasionally\n",
        "  # dips lower faster (but also sometimes goes up much more)\n",
        "  # when number of inference steps is low (below 10 or so), it seems using standard deviation\n",
        "  # is better (from the *very* limited tests I have done)\n",
        "  _, _, classes = sampled_one_hot.shape\n",
        "  alpha = alpha.view(-1, 1, 1)\n",
        "  mean = alpha * (classes * sampled_one_hot - 1)\n",
        "  variance = alpha * classes\n",
        "  standard_deviation = variance ** 0.5\n",
        "  coeff = variance if use_variance else standard_deviation\n",
        "  epsilon = torch.normal(0, 1, sampled_one_hot.shape, device=sampled_one_hot.device)\n",
        "  return mean + coeff * epsilon"
      ],
      "metadata": {
        "id": "PJJX5QjK_xg7"
      },
      "execution_count": null,
      "outputs": []
    },
    {
      "cell_type": "code",
      "source": [
        "def dis_bayesian_update(sampled_y, model_input):\n",
        "  res = torch.exp(sampled_y) * model_input\n",
        "  return res / torch.sum(res, dim=-1, keepdim=True)"
      ],
      "metadata": {
        "id": "tG-FrsnE_vWk"
      },
      "execution_count": null,
      "outputs": []
    },
    {
      "cell_type": "code",
      "source": [
        "def dis_bayesian_inference(model_input, model_output, i, n, beta_1, use_variance=True):\n",
        "  batch_size, seq_len, classes = model_output.shape\n",
        "  alpha = dis_accuracy(i, n, beta_1)\n",
        "  sampled = dis_sample_model_output(model_output)\n",
        "  y = dis_y(sampled, alpha, use_variance)\n",
        "  return dis_bayesian_update(y, model_input)"
      ],
      "metadata": {
        "id": "CUsYqZE-_3OB"
      },
      "execution_count": null,
      "outputs": []
    },
    {
      "cell_type": "code",
      "source": [
        "model_input = torch.normal(0, 1, discrete_truth.shape)\n",
        "model_input = torch.softmax(model_input, dim=-1)"
      ],
      "metadata": {
        "id": "NijHO3n1_4wX"
      },
      "execution_count": null,
      "outputs": []
    },
    {
      "cell_type": "code",
      "source": [
        "model_output = discrete_truth * 10 + 0.1 * torch.normal(0, 1, discrete_truth.shape)"
      ],
      "metadata": {
        "id": "kUzdVoMc_6wa"
      },
      "execution_count": null,
      "outputs": []
    },
    {
      "cell_type": "code",
      "source": [
        "dis_distances = []\n",
        "n = 20"
      ],
      "metadata": {
        "id": "2jIKdZa__75a"
      },
      "execution_count": null,
      "outputs": []
    },
    {
      "cell_type": "code",
      "source": [
        "for i in range(1, n+1):\n",
        "  model_input = dis_bayesian_inference(model_input, model_output, i, n, dis_beta_1, True)\n",
        "  mse = torch.sum((discrete_truth - model_input) ** 2)\n",
        "  dis_distances.append(mse)"
      ],
      "metadata": {
        "id": "AB7lNR0b_9IL"
      },
      "execution_count": null,
      "outputs": []
    },
    {
      "cell_type": "code",
      "source": [
        "plt.plot(dis_distances)"
      ],
      "metadata": {
        "colab": {
          "base_uri": "https://localhost:8080/",
          "height": 447
        },
        "id": "lrtwIH8wAAeP",
        "outputId": "85c6d824-41c1-4062-8d52-020ba911c594"
      },
      "execution_count": null,
      "outputs": [
        {
          "output_type": "execute_result",
          "data": {
            "text/plain": [
              "[<matplotlib.lines.Line2D at 0x7b6eb6759450>]"
            ]
          },
          "metadata": {},
          "execution_count": 21
        },
        {
          "output_type": "display_data",
          "data": {
            "text/plain": [
              "<Figure size 640x480 with 1 Axes>"
            ],
            "image/png": "[encoded data removed]"
          },
          "metadata": {}
        }
      ]
    },
    {
      "cell_type": "markdown",
      "source": [
        "## Discrete with synthetic dataset"
      ],
      "metadata": {
        "id": "7Oskz8FCAytG"
      }
    },
    {
      "cell_type": "code",
      "source": [
        "vocab = {\",\": 10}\n",
        "for i in range(10):\n",
        "  key = str(i)\n",
        "  value = i\n",
        "  vocab[key] = value"
      ],
      "metadata": {
        "id": "I_V9cb4kBE-F"
      },
      "execution_count": null,
      "outputs": []
    },
    {
      "cell_type": "code",
      "source": [
        "vocab"
      ],
      "metadata": {
        "colab": {
          "base_uri": "https://localhost:8080/"
        },
        "id": "5X72CiE5BM2W",
        "outputId": "68a6e3a7-b0cc-4fde-a91a-db80bc24d455"
      },
      "execution_count": null,
      "outputs": [
        {
          "output_type": "execute_result",
          "data": {
            "text/plain": [
              "{',': 10,\n",
              " '0': 0,\n",
              " '1': 1,\n",
              " '2': 2,\n",
              " '3': 3,\n",
              " '4': 4,\n",
              " '5': 5,\n",
              " '6': 6,\n",
              " '7': 7,\n",
              " '8': 8,\n",
              " '9': 9}"
            ]
          },
          "metadata": {},
          "execution_count": 23
        }
      ]
    },
    {
      "cell_type": "code",
      "source": [
        "anti_vocab = {}\n",
        "for k in vocab:\n",
        "  anti_vocab[vocab[k]] = k"
      ],
      "metadata": {
        "id": "ham9aNMJGZ0H"
      },
      "execution_count": null,
      "outputs": []
    },
    {
      "cell_type": "code",
      "source": [
        "anti_vocab"
      ],
      "metadata": {
        "colab": {
          "base_uri": "https://localhost:8080/"
        },
        "id": "d8IYEPwoGdbs",
        "outputId": "0f0309cb-a9b0-4c2b-dec1-c06b71bbb30b"
      },
      "execution_count": null,
      "outputs": [
        {
          "output_type": "execute_result",
          "data": {
            "text/plain": [
              "{10: ',',\n",
              " 0: '0',\n",
              " 1: '1',\n",
              " 2: '2',\n",
              " 3: '3',\n",
              " 4: '4',\n",
              " 5: '5',\n",
              " 6: '6',\n",
              " 7: '7',\n",
              " 8: '8',\n",
              " 9: '9'}"
            ]
          },
          "metadata": {},
          "execution_count": 25
        }
      ]
    },
    {
      "cell_type": "code",
      "source": [
        "test = \" 8 , 9 , 1 0 , 1 1 , 1 2 ,\""
      ],
      "metadata": {
        "id": "S4DQBPe1BRD-"
      },
      "execution_count": null,
      "outputs": []
    },
    {
      "cell_type": "code",
      "source": [
        "test.split()"
      ],
      "metadata": {
        "colab": {
          "base_uri": "https://localhost:8080/"
        },
        "id": "BYLR4rAoBdU5",
        "outputId": "0b926dfa-b82e-4a6e-bc5a-46242e32de38"
      },
      "execution_count": null,
      "outputs": [
        {
          "output_type": "execute_result",
          "data": {
            "text/plain": [
              "['8', ',', '9', ',', '1', '0', ',', '1', '1', ',', '1', '2', ',']"
            ]
          },
          "metadata": {},
          "execution_count": 27
        }
      ]
    },
    {
      "cell_type": "code",
      "source": [
        "def tokenize(seq, vocab):\n",
        "  # expect sequence like \" 8 , 9 , 1 0 , 1 1 , 1 2 ,\"\n",
        "  splits = seq.split()\n",
        "  res = [vocab[k] for k in splits]\n",
        "  return torch.tensor(res)"
      ],
      "metadata": {
        "id": "wRbVf0BiBN1U"
      },
      "execution_count": null,
      "outputs": []
    },
    {
      "cell_type": "code",
      "source": [
        "res = tokenize(test, vocab)"
      ],
      "metadata": {
        "id": "ZBKRAmmAB55f"
      },
      "execution_count": null,
      "outputs": []
    },
    {
      "cell_type": "code",
      "source": [
        "res"
      ],
      "metadata": {
        "colab": {
          "base_uri": "https://localhost:8080/"
        },
        "id": "zaxXUupjDgWg",
        "outputId": "3a03fbcb-da06-4edf-db6d-2636db427bab"
      },
      "execution_count": null,
      "outputs": [
        {
          "output_type": "execute_result",
          "data": {
            "text/plain": [
              "tensor([ 8, 10,  9, 10,  1,  0, 10,  1,  1, 10,  1,  2, 10])"
            ]
          },
          "metadata": {},
          "execution_count": 30
        }
      ]
    },
    {
      "cell_type": "code",
      "source": [
        "res[: 4]"
      ],
      "metadata": {
        "colab": {
          "base_uri": "https://localhost:8080/"
        },
        "id": "CAf6DOD3Dgxm",
        "outputId": "cf6ec54c-8bdc-423f-81d4-5c70b7034e1c"
      },
      "execution_count": null,
      "outputs": [
        {
          "output_type": "execute_result",
          "data": {
            "text/plain": [
              "tensor([ 8, 10,  9, 10])"
            ]
          },
          "metadata": {},
          "execution_count": 31
        }
      ]
    },
    {
      "cell_type": "code",
      "source": [
        "acc = \"\""
      ],
      "metadata": {
        "id": "ahAcwN0WCuYl"
      },
      "execution_count": null,
      "outputs": []
    },
    {
      "cell_type": "code",
      "source": [
        "for i in range(98, 101):\n",
        "  for c in str(i):\n",
        "    acc += \" \" + c\n",
        "  acc += \" ,\""
      ],
      "metadata": {
        "id": "4js9LltzCP56"
      },
      "execution_count": null,
      "outputs": []
    },
    {
      "cell_type": "code",
      "source": [
        "acc"
      ],
      "metadata": {
        "colab": {
          "base_uri": "https://localhost:8080/",
          "height": 36
        },
        "id": "MIHgDnKBC_Rl",
        "outputId": "8deab477-e46b-4e76-9ca1-3bf5524a5d01"
      },
      "execution_count": null,
      "outputs": [
        {
          "output_type": "execute_result",
          "data": {
            "text/plain": [
              "' 9 8 , 9 9 , 1 0 0 ,'"
            ],
            "application/vnd.google.colaboratory.intrinsic+json": {
              "type": "string"
            }
          },
          "metadata": {},
          "execution_count": 34
        }
      ]
    },
    {
      "cell_type": "code",
      "source": [
        "def generate_sequence(length: int, tokenized_length: int, vocab, mini: int = 0, maxi: int = 100):\n",
        "  start = random.randint(mini, maxi - length)\n",
        "  end = start + length\n",
        "  acc = \"\"\n",
        "  for i in range(start, end+1):\n",
        "    for c in str(i):\n",
        "      acc += \" \" + c\n",
        "    acc += \" ,\"\n",
        "  tokenized = tokenize(acc, vocab)\n",
        "  return tokenized[:tokenized_length]"
      ],
      "metadata": {
        "id": "4DUEkivMABoN"
      },
      "execution_count": null,
      "outputs": []
    },
    {
      "cell_type": "code",
      "source": [
        "seq = generate_sequence(32, 32, vocab)"
      ],
      "metadata": {
        "id": "9AnXG4YTDLQy"
      },
      "execution_count": null,
      "outputs": []
    },
    {
      "cell_type": "code",
      "source": [
        "seq"
      ],
      "metadata": {
        "colab": {
          "base_uri": "https://localhost:8080/"
        },
        "id": "PvG_95AKDNtp",
        "outputId": "f1ad95a7-5628-4d5c-9e54-b957cacc5f6d"
      },
      "execution_count": null,
      "outputs": [
        {
          "output_type": "execute_result",
          "data": {
            "text/plain": [
              "tensor([ 6,  5, 10,  6,  6, 10,  6,  7, 10,  6,  8, 10,  6,  9, 10,  7,  0, 10,\n",
              "         7,  1, 10,  7,  2, 10,  7,  3, 10,  7,  4, 10,  7,  5])"
            ]
          },
          "metadata": {},
          "execution_count": 37
        }
      ]
    },
    {
      "cell_type": "code",
      "source": [
        "class DiscreteSynthetic(Dataset):\n",
        "  def __init__(self, length: int = 32, tokenized_length: int = 32, vocab = {}, mini: int = 0, maxi: int = 100):\n",
        "    assert vocab, \"Vocab cannot be empty\"\n",
        "    self.length = length\n",
        "    self.tokenized_length = tokenized_length\n",
        "    self.vocab = vocab\n",
        "    self.mini = mini\n",
        "    self.maxi = maxi\n",
        "\n",
        "  def __len__(self):\n",
        "    return 10000\n",
        "\n",
        "  def __getitem__(self, idx):\n",
        "    return F.one_hot(generate_sequence(self.length, self.tokenized_length, self.vocab, self.mini, self.maxi), num_classes=len(self.vocab))"
      ],
      "metadata": {
        "id": "j0s2Q5-LDuBE"
      },
      "execution_count": null,
      "outputs": []
    },
    {
      "cell_type": "code",
      "source": [
        "max_seq_len = 32"
      ],
      "metadata": {
        "id": "Ui-TGjQRGxED"
      },
      "execution_count": null,
      "outputs": []
    },
    {
      "cell_type": "code",
      "source": [
        "ds = DiscreteSynthetic(tokenized_length=max_seq_len, vocab=vocab)"
      ],
      "metadata": {
        "id": "TGcIGfwWE0tI"
      },
      "execution_count": null,
      "outputs": []
    },
    {
      "cell_type": "code",
      "source": [
        "train_dl = DataLoader(ds, batch_size = 32 * 6 * 2)"
      ],
      "metadata": {
        "id": "zZT-GQ5oEsV1"
      },
      "execution_count": null,
      "outputs": []
    },
    {
      "cell_type": "code",
      "source": [
        "def make_infinite(dl):\n",
        "  while True:\n",
        "    for data in dl:\n",
        "      yield data"
      ],
      "metadata": {
        "id": "YWNqCq3NHKH1"
      },
      "execution_count": null,
      "outputs": []
    },
    {
      "cell_type": "code",
      "source": [
        "def make_output_readable(tensor, anti_vocab):\n",
        "  batch_size, seq_len, num_classes = tensor.shape\n",
        "  batches = []\n",
        "  for i in range(batch_size):\n",
        "    seq = tensor[i]\n",
        "    cur_seq = []\n",
        "    for j in range(seq_len):\n",
        "      one_hot_encoding = seq[j]\n",
        "      value = torch.argmax(one_hot_encoding)\n",
        "      cur_seq.append(anti_vocab[int(value)])\n",
        "    batches.append(\"\".join(cur_seq))\n",
        "  return batches"
      ],
      "metadata": {
        "id": "p_XayKgrFzR7"
      },
      "execution_count": null,
      "outputs": []
    },
    {
      "cell_type": "code",
      "source": [
        "# make_output_readable(example, anti_vocab)"
      ],
      "metadata": {
        "id": "ANPC84vnGEon"
      },
      "execution_count": null,
      "outputs": []
    },
    {
      "cell_type": "code",
      "source": [
        "device = 'cuda' if torch.cuda.is_available() else 'cpu'"
      ],
      "metadata": {
        "id": "F9fr2FHCjkSy"
      },
      "execution_count": null,
      "outputs": []
    },
    {
      "cell_type": "code",
      "source": [
        "model = DiscreteModel(max_seq_len, len(vocab), 64, 8)"
      ],
      "metadata": {
        "id": "tn1zbG6vGTyt"
      },
      "execution_count": null,
      "outputs": []
    },
    {
      "cell_type": "code",
      "source": [
        "model = model.to(device)"
      ],
      "metadata": {
        "id": "hfe8UQD8ju6f"
      },
      "execution_count": null,
      "outputs": []
    },
    {
      "cell_type": "code",
      "source": [
        "opt = AdamW(model.parameters())"
      ],
      "metadata": {
        "id": "zaXAEfGFKv96"
      },
      "execution_count": null,
      "outputs": []
    },
    {
      "cell_type": "code",
      "source": [
        "losses = []"
      ],
      "metadata": {
        "id": "Awn-TadoQKpf"
      },
      "execution_count": null,
      "outputs": []
    },
    {
      "cell_type": "code",
      "source": [
        "train_dl = make_infinite(train_dl)"
      ],
      "metadata": {
        "id": "oy8OaYdPG_CI"
      },
      "execution_count": null,
      "outputs": []
    },
    {
      "cell_type": "code",
      "source": [
        "def sample_t(batch_size, min_t=1e-6):\n",
        "  return torch.clamp(torch.FloatTensor(batch_size).uniform_(0,1), min=min_t)"
      ],
      "metadata": {
        "id": "YKtRUUWSINsD"
      },
      "execution_count": null,
      "outputs": []
    },
    {
      "cell_type": "code",
      "source": [
        "sample_t(2)"
      ],
      "metadata": {
        "colab": {
          "base_uri": "https://localhost:8080/"
        },
        "id": "KFt-G-v5IDKh",
        "outputId": "3a788727-dd5b-4bf6-aa27-272acb89cee5"
      },
      "execution_count": null,
      "outputs": [
        {
          "output_type": "execute_result",
          "data": {
            "text/plain": [
              "tensor([0.7026, 0.4850])"
            ]
          },
          "metadata": {},
          "execution_count": 52
        }
      ]
    },
    {
      "cell_type": "code",
      "source": [
        "n = 100"
      ],
      "metadata": {
        "id": "Kr7tVIGyUDbC"
      },
      "execution_count": null,
      "outputs": []
    },
    {
      "cell_type": "code",
      "source": [
        "model_input = torch.normal(0, 1, (1, max_seq_len, len(vocab)))\n",
        "model_input = torch.softmax(model_input, dim=-1) * 2 - 1"
      ],
      "metadata": {
        "id": "JcRNsvdjT720"
      },
      "execution_count": null,
      "outputs": []
    },
    {
      "cell_type": "code",
      "source": [
        "with torch.no_grad():\n",
        "  for i in range(1, n+1):\n",
        "    cur_it = torch.tensor([i])\n",
        "    total_it = torch.tensor([n])\n",
        "    t = dis_t(cur_it,total_it)\n",
        "    dis_beta_1 = torch.ones_like(t) * 4\n",
        "    model_output = model.forward(model_input.to(device), t.to(device))\n",
        "    model_input = dis_bayesian_inference(model_input.to('cpu'), model_output.to('cpu'), i, n, dis_beta_1, True)"
      ],
      "metadata": {
        "id": "rEmCUwcOUFF0"
      },
      "execution_count": null,
      "outputs": []
    },
    {
      "cell_type": "code",
      "source": [
        "make_output_readable(model_input, anti_vocab)"
      ],
      "metadata": {
        "colab": {
          "base_uri": "https://localhost:8080/"
        },
        "id": "eQHdyNk9UJI1",
        "outputId": "035383b0-630d-4505-ca8f-1c700fbf1e63"
      },
      "execution_count": null,
      "outputs": [
        {
          "output_type": "execute_result",
          "data": {
            "text/plain": [
              "['72278402628248422222228428222222']"
            ]
          },
          "metadata": {},
          "execution_count": 56
        }
      ]
    },
    {
      "cell_type": "code",
      "source": [
        "epochs = 1_000"
      ],
      "metadata": {
        "id": "XQk3XafMG8zp"
      },
      "execution_count": null,
      "outputs": []
    },
    {
      "cell_type": "code",
      "source": [
        "for i in tqdm(range(epochs)):\n",
        "  opt.zero_grad()\n",
        "  ground_truth = next(train_dl).to(device)\n",
        "  batch_size, seq_len, classes = ground_truth.shape\n",
        "  t = sample_t(batch_size).to(device)\n",
        "  dis_beta_1 = torch.ones_like(t) * 4\n",
        "  beta = dis_beta_t(dis_beta_1, t)\n",
        "  y_prime = dis_y_distribution(beta, classes, ground_truth)\n",
        "  theta = dis_theta(y_prime)\n",
        "\n",
        "  dis_output = model.forward(theta, t)\n",
        "  loss = dis_loss(classes, dis_beta_1, t, batch_size, ground_truth, model_output_logits=dis_output)\n",
        "  loss.backward()\n",
        "  opt.step()\n",
        "  losses.append(loss.item())"
      ],
      "metadata": {
        "colab": {
          "base_uri": "https://localhost:8080/",
          "height": 49,
          "referenced_widgets": [
            "9d4475da5aad4d65baa75fd4b192f659",
            "3b1ef3c7ca40421c915207741aa076c6",
            "a465a86a06d34b318cbd4584b5f60987",
            "b7b7def07a784538a54b48cdbc3b75bb",
            "01323090cdb44147be02c421b701ed13",
            "0b7127ecafe44949b4ca8aa247cb4e21",
            "2b575013d1014c17bd9142b5bf56877c",
            "40b1c8ccbb7847dea580ee9846a7fc60",
            "78ec4a53562b4345847a2f6b1aa798d4",
            "4a2f7f4c288e49669282c0750cd132a9",
            "1a0b6d19e53044879407578d6037f780"
          ]
        },
        "id": "TCMiilzjHTZh",
        "outputId": "51442691-4d93-4ce9-c5d1-030ef74c6ba3"
      },
      "execution_count": null,
      "outputs": [
        {
          "output_type": "display_data",
          "data": {
            "text/plain": [
              "  0%|          | 0/1000 [00:00<?, ?it/s]"
            ],
            "application/vnd.jupyter.widget-view+json": {
              "version_major": 2,
              "version_minor": 0,
              "model_id": "9d4475da5aad4d65baa75fd4b192f659"
            }
          },
          "metadata": {}
        }
      ]
    },
    {
      "cell_type": "code",
      "source": [
        "plt.plot(losses)"
      ],
      "metadata": {
        "colab": {
          "base_uri": "https://localhost:8080/",
          "height": 447
        },
        "id": "MOX4QJFZJ5vD",
        "outputId": "634d85fb-5864-424f-dfc6-1cf5c99bf5f6"
      },
      "execution_count": null,
      "outputs": [
        {
          "output_type": "execute_result",
          "data": {
            "text/plain": [
              "[<matplotlib.lines.Line2D at 0x7b6ea00cf5d0>]"
            ]
          },
          "metadata": {},
          "execution_count": 66
        },
        {
          "output_type": "display_data",
          "data": {
            "text/plain": [
              "<Figure size 640x480 with 1 Axes>"
            ],
            "image/png": "[encoded data removed]"
          },
          "metadata": {}
        }
      ]
    },
    {
      "cell_type": "code",
      "source": [
        "def moving_average(data, window_size):\n",
        "    return np.convolve(data, np.ones(window_size)/window_size, mode='valid')\n",
        "\n",
        "# Usage\n",
        "smoothed_losses = moving_average(losses, window_size=50)\n",
        "plt.plot(smoothed_losses)"
      ],
      "metadata": {
        "colab": {
          "base_uri": "https://localhost:8080/",
          "height": 447
        },
        "id": "E4dLBIo1KiK6",
        "outputId": "64bb538f-9046-4013-faee-6d633ea55e7f"
      },
      "execution_count": null,
      "outputs": [
        {
          "output_type": "execute_result",
          "data": {
            "text/plain": [
              "[<matplotlib.lines.Line2D at 0x7b6e8a037f10>]"
            ]
          },
          "metadata": {},
          "execution_count": 67
        },
        {
          "output_type": "display_data",
          "data": {
            "text/plain": [
              "<Figure size 640x480 with 1 Axes>"
            ],
            "image/png": "[encoded data removed]"
          },
          "metadata": {}
        }
      ]
    },
    {
      "cell_type": "code",
      "source": [
        "model_input_og = torch.normal(0, 1, (1, max_seq_len, len(vocab))).to(device)\n",
        "model_input_og = torch.softmax(model_input_og, dim=-1) * 2 - 1"
      ],
      "metadata": {
        "id": "9xTWcSjSP5L5"
      },
      "execution_count": null,
      "outputs": []
    },
    {
      "cell_type": "code",
      "source": [
        "n = 190"
      ],
      "metadata": {
        "id": "DLOt4rWJgtQw"
      },
      "execution_count": null,
      "outputs": []
    },
    {
      "cell_type": "code",
      "source": [
        "model_input = model_input_og"
      ],
      "metadata": {
        "id": "aNbZwFi6gxCU"
      },
      "execution_count": null,
      "outputs": []
    },
    {
      "cell_type": "code",
      "source": [
        "for i in range(1, n+1):\n",
        "  if i % 10 == 0:\n",
        "    print(make_output_readable(model_input, anti_vocab))\n",
        "  cur_it = torch.tensor([i])\n",
        "  total_it = torch.tensor([n])\n",
        "  t = dis_t(cur_it,total_it).to(device)\n",
        "  dis_beta_1 = torch.ones_like(t) * 4\n",
        "  model_output = model.forward(model_input, t)\n",
        "  model_input = dis_bayesian_inference(model_input, model_output, i, n, dis_beta_1, True)"
      ],
      "metadata": {
        "colab": {
          "base_uri": "https://localhost:8080/"
        },
        "id": "Fsyu-46hSyxg",
        "outputId": "a296f8de-1703-414d-e1c9-ef21cd4295bf"
      },
      "execution_count": null,
      "outputs": [
        {
          "output_type": "stream",
          "name": "stdout",
          "text": [
            "['3055404094,149,46,58,16440680,63']\n",
            "['58759,49946,49,46,58,46,60712,64']\n",
            "['58,42,40942,49,5,,58,57,58,12,59']\n",
            "['59,52,75,41,59,59,58,51,56,52,59']\n",
            "['58,55,5,,47,59,59,58,58,58,52,59']\n",
            "['58,55,59,57,54,5,,58,52,59,59,59']\n",
            "['58,55,59,57,54,58,58,52,59,59,56']\n",
            "['59,55,50,57,54,59,58,52,59,59,56']\n",
            "['59,59,59,55,54,59,52,54,53,59,58']\n",
            "['59,59,53,59,54,53,52,58,59,55,58']\n",
            "['59,54,53,56,54,53,54,58,59,55,58']\n",
            "['59,55,53,56,58,53,52,55,59,55,58']\n",
            "['59,55,53,54,58,53,52,55,59,55,58']\n",
            "['59,55,53,54,54,53,52,55,59,55,58']\n",
            "['59,55,53,54,54,53,52,58,59,55,58']\n",
            "['54,55,54,54,54,53,52,55,59,55,58']\n",
            "['54,55,50,54,54,53,52,55,58,55,58']\n",
            "['55,55,50,54,54,53,59,55,58,56,58']\n",
            "['55,55,50,54,54,53,59,55,58,55,58']\n"
          ]
        }
      ]
    },
    {
      "cell_type": "code",
      "source": [],
      "metadata": {
        "id": "7-Nbz5nZrNbt"
      },
      "execution_count": null,
      "outputs": []
    }
  ]
}