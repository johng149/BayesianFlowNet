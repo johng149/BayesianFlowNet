{
 "cells": [
  {
   "cell_type": "code",
   "execution_count": 32,
   "id": "78fbeb8c",
   "metadata": {},
   "outputs": [],
   "source": [
    "import torch\n",
    "import numpy as np"
   ]
  },
  {
   "cell_type": "code",
   "execution_count": 33,
   "id": "c825335b",
   "metadata": {},
   "outputs": [
    {
     "data": {
      "text/plain": [
       "<torch._C.Generator at 0x72f9fe915590>"
      ]
     },
     "execution_count": 33,
     "metadata": {},
     "output_type": "execute_result"
    }
   ],
   "source": [
    "torch.manual_seed(3)"
   ]
  },
  {
   "cell_type": "code",
   "execution_count": 34,
   "id": "6d8cdf90",
   "metadata": {},
   "outputs": [],
   "source": [
    "sigma_1 = 0.001\n",
    "t = 0.99"
   ]
  },
  {
   "cell_type": "code",
   "execution_count": 35,
   "id": "1a93a44a",
   "metadata": {},
   "outputs": [],
   "source": [
    "gamma = sigma_1 ** t"
   ]
  },
  {
   "cell_type": "code",
   "execution_count": 36,
   "id": "f72a6e28",
   "metadata": {},
   "outputs": [
    {
     "data": {
      "text/plain": [
       "0.0010715193052376064"
      ]
     },
     "execution_count": 36,
     "metadata": {},
     "output_type": "execute_result"
    }
   ],
   "source": [
    "gamma"
   ]
  },
  {
   "cell_type": "code",
   "execution_count": 37,
   "id": "0a8af4cf",
   "metadata": {},
   "outputs": [],
   "source": [
    "ground_truth = torch.randn((1,3))"
   ]
  },
  {
   "cell_type": "code",
   "execution_count": 38,
   "id": "42c73fe2",
   "metadata": {},
   "outputs": [
    {
     "data": {
      "text/plain": [
       "tensor([[0.8033, 0.1748, 0.0890]])"
      ]
     },
     "execution_count": 38,
     "metadata": {},
     "output_type": "execute_result"
    }
   ],
   "source": [
    "ground_truth"
   ]
  },
  {
   "cell_type": "code",
   "execution_count": 39,
   "id": "7d2411af",
   "metadata": {},
   "outputs": [],
   "source": [
    "original_epsilon  =torch.normal(0, 1, ground_truth.shape)"
   ]
  },
  {
   "cell_type": "code",
   "execution_count": 40,
   "id": "db492442",
   "metadata": {},
   "outputs": [
    {
     "data": {
      "text/plain": [
       "tensor([[-0.6137,  0.0462, -1.3683]])"
      ]
     },
     "execution_count": 40,
     "metadata": {},
     "output_type": "execute_result"
    }
   ],
   "source": [
    "original_epsilon"
   ]
  },
  {
   "cell_type": "code",
   "execution_count": 41,
   "id": "2f79ee6c",
   "metadata": {},
   "outputs": [
    {
     "data": {
      "text/plain": [
       "0.0010703711516161095"
      ]
     },
     "execution_count": 41,
     "metadata": {},
     "output_type": "execute_result"
    }
   ],
   "source": [
    "gamma * (1 - gamma)"
   ]
  },
  {
   "cell_type": "code",
   "execution_count": 42,
   "id": "fa079791",
   "metadata": {},
   "outputs": [],
   "source": [
    "mu = gamma * ground_truth + np.sqrt(gamma * (1 - gamma)) * original_epsilon"
   ]
  },
  {
   "cell_type": "code",
   "execution_count": 43,
   "id": "7da56912",
   "metadata": {},
   "outputs": [
    {
     "data": {
      "text/plain": [
       "tensor([[-0.0192,  0.0017, -0.0447]])"
      ]
     },
     "execution_count": 43,
     "metadata": {},
     "output_type": "execute_result"
    }
   ],
   "source": [
    "mu"
   ]
  },
  {
   "cell_type": "code",
   "execution_count": 44,
   "id": "c4172f52",
   "metadata": {},
   "outputs": [
    {
     "data": {
      "text/plain": [
       "tensor([[0.8033, 0.1748, 0.0890]])"
      ]
     },
     "execution_count": 44,
     "metadata": {},
     "output_type": "execute_result"
    }
   ],
   "source": [
    "mu / gamma - np.sqrt((1-gamma) / gamma) * original_epsilon"
   ]
  },
  {
   "cell_type": "code",
   "execution_count": 45,
   "id": "70d3e81b",
   "metadata": {},
   "outputs": [],
   "source": [
    "incorrect_epsilon = torch.normal(0, 1, ground_truth.shape)"
   ]
  },
  {
   "cell_type": "code",
   "execution_count": 46,
   "id": "cff30df3",
   "metadata": {},
   "outputs": [
    {
     "data": {
      "text/plain": [
       "tensor([[-28.2400, -29.2873,   2.1322]])"
      ]
     },
     "execution_count": 46,
     "metadata": {},
     "output_type": "execute_result"
    }
   ],
   "source": [
    "mu / gamma - np.sqrt((1-gamma) / gamma) * incorrect_epsilon"
   ]
  },
  {
   "cell_type": "code",
   "execution_count": 47,
   "id": "3ea7ed90",
   "metadata": {},
   "outputs": [
    {
     "data": {
      "text/plain": [
       "tensor([[-0.0192,  0.0017, -0.0447]])"
      ]
     },
     "execution_count": 47,
     "metadata": {},
     "output_type": "execute_result"
    }
   ],
   "source": [
    "mu"
   ]
  },
  {
   "cell_type": "code",
   "execution_count": null,
   "id": "f45b6a5f",
   "metadata": {},
   "outputs": [],
   "source": []
  }
 ],
 "metadata": {
  "kernelspec": {
   "display_name": ".venv",
   "language": "python",
   "name": "python3"
  },
  "language_info": {
   "codemirror_mode": {
    "name": "ipython",
    "version": 3
   },
   "file_extension": ".py",
   "mimetype": "text/x-python",
   "name": "python",
   "nbconvert_exporter": "python",
   "pygments_lexer": "ipython3",
   "version": "3.11.13"
  }
 },
 "nbformat": 4,
 "nbformat_minor": 5
}
