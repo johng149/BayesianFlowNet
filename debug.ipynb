{
 "cells": [
  {
   "cell_type": "code",
   "execution_count": 9,
   "id": "d93f3490",
   "metadata": {},
   "outputs": [],
   "source": [
    "import torch"
   ]
  },
  {
   "cell_type": "code",
   "execution_count": 10,
   "id": "7cd3523e",
   "metadata": {},
   "outputs": [],
   "source": [
    "data = torch.load(\"debug_nan_4.pt\")"
   ]
  },
  {
   "cell_type": "code",
   "execution_count": 11,
   "id": "bdf1142b",
   "metadata": {},
   "outputs": [
    {
     "data": {
      "text/plain": [
       "{'current_iteration': {'model_input': tensor([[[nan, nan, nan,  ..., nan, nan, nan],\n",
       "           [nan, nan, nan,  ..., nan, nan, nan],\n",
       "           [nan, nan, nan,  ..., nan, nan, nan],\n",
       "           ...,\n",
       "           [nan, nan, nan,  ..., nan, nan, nan],\n",
       "           [nan, nan, nan,  ..., nan, nan, nan],\n",
       "           [nan, nan, nan,  ..., nan, nan, nan]]], device='cuda:0'),\n",
       "  'model_output': tensor([[[nan, nan, nan,  ..., nan, nan, nan],\n",
       "           [nan, nan, nan,  ..., nan, nan, nan],\n",
       "           [nan, nan, nan,  ..., nan, nan, nan],\n",
       "           ...,\n",
       "           [nan, nan, nan,  ..., nan, nan, nan],\n",
       "           [nan, nan, nan,  ..., nan, nan, nan],\n",
       "           [nan, nan, nan,  ..., nan, nan, nan]]], device='cuda:0',\n",
       "         requires_grad=True),\n",
       "  't': tensor([0.0158], device='cuda:0'),\n",
       "  'iteration': 4},\n",
       " 'previous_iteration': {'model_input': tensor([[[1.6549e-42, 0.0000e+00, 5.4062e-31,  ..., 9.0163e-37,\n",
       "            4.8625e-43, 1.3649e-32],\n",
       "           [3.8580e-37, 1.2394e-40, 3.5159e-42,  ..., 2.4265e-26,\n",
       "            2.7448e-22, 2.1886e-38],\n",
       "           [6.8552e-31, 4.3157e-36, 2.1954e-40,  ..., 1.7501e-09,\n",
       "            1.9810e-26, 2.3046e-36],\n",
       "           ...,\n",
       "           [2.6991e-39, 1.9612e-35, 3.6632e-34,  ..., 2.9472e-17,\n",
       "            1.9030e-23, 1.2869e-15],\n",
       "           [1.7963e-30, 1.0558e-25, 1.4749e-39,  ..., 1.6257e-19,\n",
       "            5.8711e-35, 3.4140e-41],\n",
       "           [1.5762e-27, 1.1590e-39, 1.1788e-25,  ..., 1.4536e-31,\n",
       "            3.1501e-41, 1.8450e-37]]], device='cuda:0'),\n",
       "  'model_output': tensor([[[ -7.6601,  -0.8689,  -7.2604,  ...,   3.4846,  -5.5560,  10.4001],\n",
       "           [-10.0051,   4.4050,  -5.8318,  ...,   7.3675,  -6.2918,  -8.7680],\n",
       "           [  9.9854,  -7.4684,   4.6732,  ...,   4.2836,   3.1180,   9.5783],\n",
       "           ...,\n",
       "           [-13.8079, -10.7219,  -7.3332,  ...,  -6.0323, -10.5765,   6.6447],\n",
       "           [ -1.6422,  -0.0818,  -3.8970,  ...,  11.5898,   6.0674,   7.4406],\n",
       "           [-10.6987,   3.8090,   9.9319,  ...,   3.8947,  -9.6282,   1.2883]]],\n",
       "         device='cuda:0', requires_grad=True),\n",
       "  't': tensor([0.0105], device='cuda:0'),\n",
       "  'iteration': 3}}"
      ]
     },
     "execution_count": 11,
     "metadata": {},
     "output_type": "execute_result"
    }
   ],
   "source": [
    "data"
   ]
  },
  {
   "cell_type": "code",
   "execution_count": 12,
   "id": "47a4e1d0",
   "metadata": {},
   "outputs": [],
   "source": [
    "previous_iteration = data[\"previous_iteration\"]"
   ]
  },
  {
   "cell_type": "code",
   "execution_count": 13,
   "id": "17c6e34e",
   "metadata": {},
   "outputs": [
    {
     "data": {
      "text/plain": [
       "{'model_input': tensor([[[1.6549e-42, 0.0000e+00, 5.4062e-31,  ..., 9.0163e-37,\n",
       "           4.8625e-43, 1.3649e-32],\n",
       "          [3.8580e-37, 1.2394e-40, 3.5159e-42,  ..., 2.4265e-26,\n",
       "           2.7448e-22, 2.1886e-38],\n",
       "          [6.8552e-31, 4.3157e-36, 2.1954e-40,  ..., 1.7501e-09,\n",
       "           1.9810e-26, 2.3046e-36],\n",
       "          ...,\n",
       "          [2.6991e-39, 1.9612e-35, 3.6632e-34,  ..., 2.9472e-17,\n",
       "           1.9030e-23, 1.2869e-15],\n",
       "          [1.7963e-30, 1.0558e-25, 1.4749e-39,  ..., 1.6257e-19,\n",
       "           5.8711e-35, 3.4140e-41],\n",
       "          [1.5762e-27, 1.1590e-39, 1.1788e-25,  ..., 1.4536e-31,\n",
       "           3.1501e-41, 1.8450e-37]]], device='cuda:0'),\n",
       " 'model_output': tensor([[[ -7.6601,  -0.8689,  -7.2604,  ...,   3.4846,  -5.5560,  10.4001],\n",
       "          [-10.0051,   4.4050,  -5.8318,  ...,   7.3675,  -6.2918,  -8.7680],\n",
       "          [  9.9854,  -7.4684,   4.6732,  ...,   4.2836,   3.1180,   9.5783],\n",
       "          ...,\n",
       "          [-13.8079, -10.7219,  -7.3332,  ...,  -6.0323, -10.5765,   6.6447],\n",
       "          [ -1.6422,  -0.0818,  -3.8970,  ...,  11.5898,   6.0674,   7.4406],\n",
       "          [-10.6987,   3.8090,   9.9319,  ...,   3.8947,  -9.6282,   1.2883]]],\n",
       "        device='cuda:0', requires_grad=True),\n",
       " 't': tensor([0.0105], device='cuda:0'),\n",
       " 'iteration': 3}"
      ]
     },
     "execution_count": 13,
     "metadata": {},
     "output_type": "execute_result"
    }
   ],
   "source": [
    "previous_iteration"
   ]
  },
  {
   "cell_type": "code",
   "execution_count": 27,
   "id": "e2c7143a",
   "metadata": {},
   "outputs": [],
   "source": [
    "from src.inference.discrete_inference import bayesian_inference, sample_model_output, y, accuracy"
   ]
  },
  {
   "cell_type": "code",
   "execution_count": 17,
   "id": "73aae2f1",
   "metadata": {},
   "outputs": [
    {
     "data": {
      "text/plain": [
       "tensor([[[nan, nan, nan,  ..., nan, nan, nan],\n",
       "         [nan, nan, nan,  ..., nan, nan, nan],\n",
       "         [0., 0., 0.,  ..., 0., 0., 0.],\n",
       "         ...,\n",
       "         [nan, nan, nan,  ..., nan, nan, nan],\n",
       "         [nan, nan, nan,  ..., nan, nan, nan],\n",
       "         [nan, nan, nan,  ..., nan, nan, nan]]], device='cuda:0')"
      ]
     },
     "execution_count": 17,
     "metadata": {},
     "output_type": "execute_result"
    }
   ],
   "source": [
    "bayesian_inference(\n",
    "    model_input = previous_iteration[\"model_input\"],\n",
    "    model_output_logits = previous_iteration[\"model_output\"],\n",
    "    i = torch.tensor([3], device=previous_iteration[\"model_input\"].device),\n",
    "    n = torch.tensor([190], device=previous_iteration[\"model_input\"].device),\n",
    "    beta_1 = torch.tensor([4.0], device=previous_iteration[\"model_input\"].device)\n",
    ")"
   ]
  },
  {
   "cell_type": "code",
   "execution_count": 20,
   "id": "57b63efd",
   "metadata": {},
   "outputs": [],
   "source": [
    "sampled_out = sample_model_output(\n",
    "    model_output_logits = previous_iteration[\"model_output\"],\n",
    ")"
   ]
  },
  {
   "cell_type": "code",
   "execution_count": 28,
   "id": "1c5b6718",
   "metadata": {},
   "outputs": [],
   "source": [
    "acc = accuracy(\n",
    "    i = torch.tensor([3], device=previous_iteration[\"model_input\"].device),\n",
    "    n = torch.tensor([190], device=previous_iteration[\"model_input\"].device),\n",
    "    beta_1 = torch.tensor([4.0], device=previous_iteration[\"model_input\"].device),\n",
    ")"
   ]
  },
  {
   "cell_type": "code",
   "execution_count": 30,
   "id": "ac00fa3e",
   "metadata": {},
   "outputs": [],
   "source": [
    "y_res = y(sampled_out, acc)"
   ]
  },
  {
   "cell_type": "code",
   "execution_count": 37,
   "id": "eb47fa83",
   "metadata": {},
   "outputs": [
    {
     "data": {
      "text/plain": [
       "tensor(False, device='cuda:0')"
      ]
     },
     "execution_count": 37,
     "metadata": {},
     "output_type": "execute_result"
    }
   ],
   "source": [
    "torch.exp(y_res).isnan().any()"
   ]
  },
  {
   "cell_type": "code",
   "execution_count": 39,
   "id": "c0b65a42",
   "metadata": {},
   "outputs": [
    {
     "data": {
      "text/plain": [
       "tensor(False, device='cuda:0')"
      ]
     },
     "execution_count": 39,
     "metadata": {},
     "output_type": "execute_result"
    }
   ],
   "source": [
    "previous_iteration[\"model_input\"].isnan().any()"
   ]
  },
  {
   "cell_type": "code",
   "execution_count": 44,
   "id": "96a9cb82",
   "metadata": {},
   "outputs": [
    {
     "data": {
      "text/plain": [
       "(torch.Size([1, 32, 50257]), torch.Size([1, 32, 50257]))"
      ]
     },
     "execution_count": 44,
     "metadata": {},
     "output_type": "execute_result"
    }
   ],
   "source": [
    "y_res.shape, previous_iteration[\"model_input\"].shape"
   ]
  },
  {
   "cell_type": "code",
   "execution_count": 47,
   "id": "421c8b70",
   "metadata": {},
   "outputs": [],
   "source": [
    "res = torch.exp(y_res) * previous_iteration[\"model_input\"]"
   ]
  },
  {
   "cell_type": "code",
   "execution_count": 48,
   "id": "6a0da326",
   "metadata": {},
   "outputs": [
    {
     "data": {
      "text/plain": [
       "tensor([[[1.0103e-34, 0.0000e+00, 4.8732e-12,  ..., 1.4212e-33,\n",
       "          0.0000e+00, 5.4452e-22],\n",
       "         [0.0000e+00, 3.0360e-33, 0.0000e+00,  ..., 3.7671e-30,\n",
       "          3.6128e-37, 8.8579e-36],\n",
       "         [1.4412e-19, 1.7802e-29, 2.8089e-30,  ..., 6.1808e-02,\n",
       "          1.8880e-28, 0.0000e+00],\n",
       "         ...,\n",
       "         [0.0000e+00, 6.7687e-41, 2.0210e-37,  ..., 6.7457e-08,\n",
       "          3.4779e-23, 8.3339e-25],\n",
       "         [8.1486e-24, 1.4185e-09, 7.7263e-28,  ..., 1.2398e-03,\n",
       "          0.0000e+00, 0.0000e+00],\n",
       "         [3.6134e-34, 1.1812e-21, 9.3908e-01,  ..., 5.1478e-28,\n",
       "          0.0000e+00, 4.2815e-21]]], device='cuda:0')"
      ]
     },
     "execution_count": 48,
     "metadata": {},
     "output_type": "execute_result"
    }
   ],
   "source": [
    "res"
   ]
  },
  {
   "cell_type": "code",
   "execution_count": 49,
   "id": "30ef2289",
   "metadata": {},
   "outputs": [
    {
     "data": {
      "text/plain": [
       "tensor(nan, device='cuda:0')"
      ]
     },
     "execution_count": 49,
     "metadata": {},
     "output_type": "execute_result"
    }
   ],
   "source": [
    "res[0][0][1413]"
   ]
  },
  {
   "cell_type": "code",
   "execution_count": 38,
   "id": "6e415192",
   "metadata": {},
   "outputs": [
    {
     "data": {
      "text/plain": [
       "tensor([[    0,     0,  1413],\n",
       "        [    0,     1, 46425],\n",
       "        [    0,     2, 24362],\n",
       "        [    0,     2, 43902],\n",
       "        [    0,     4,  3860],\n",
       "        [    0,     4, 29745],\n",
       "        [    0,     5, 10265],\n",
       "        [    0,     5, 29235],\n",
       "        [    0,     5, 37292],\n",
       "        [    0,     6, 19952],\n",
       "        [    0,     6, 41152],\n",
       "        [    0,     7, 24566],\n",
       "        [    0,     8,  2811],\n",
       "        [    0,     8, 23228],\n",
       "        [    0,     8, 33144],\n",
       "        [    0,     8, 33913],\n",
       "        [    0,     9, 10747],\n",
       "        [    0,     9, 11843],\n",
       "        [    0,     9, 25087],\n",
       "        [    0,     9, 42037],\n",
       "        [    0,     9, 49324],\n",
       "        [    0,    10, 27499],\n",
       "        [    0,    12, 46786],\n",
       "        [    0,    13, 10680],\n",
       "        [    0,    13, 14675],\n",
       "        [    0,    13, 15454],\n",
       "        [    0,    13, 18659],\n",
       "        [    0,    13, 30122],\n",
       "        [    0,    13, 50028],\n",
       "        [    0,    14, 14627],\n",
       "        [    0,    14, 18296],\n",
       "        [    0,    15, 38881],\n",
       "        [    0,    17,  2215],\n",
       "        [    0,    17, 17201],\n",
       "        [    0,    17, 19306],\n",
       "        [    0,    17, 19777],\n",
       "        [    0,    17, 34249],\n",
       "        [    0,    17, 46434],\n",
       "        [    0,    17, 48366],\n",
       "        [    0,    18, 10473],\n",
       "        [    0,    18, 10724],\n",
       "        [    0,    21, 27542],\n",
       "        [    0,    21, 35115],\n",
       "        [    0,    21, 49396],\n",
       "        [    0,    22, 33956],\n",
       "        [    0,    22, 35480],\n",
       "        [    0,    26, 22152],\n",
       "        [    0,    26, 25566],\n",
       "        [    0,    26, 26510],\n",
       "        [    0,    27, 35310],\n",
       "        [    0,    28, 41812],\n",
       "        [    0,    29,   108],\n",
       "        [    0,    29, 18033],\n",
       "        [    0,    31, 22597],\n",
       "        [    0,    31, 24204]], device='cuda:0')"
      ]
     },
     "execution_count": 38,
     "metadata": {},
     "output_type": "execute_result"
    }
   ],
   "source": [
    "torch.nonzero(torch.isnan(res))"
   ]
  },
  {
   "cell_type": "code",
   "execution_count": 50,
   "id": "2a9d8318",
   "metadata": {},
   "outputs": [
    {
     "data": {
      "text/plain": [
       "(tensor(inf, device='cuda:0'), tensor(0., device='cuda:0'))"
      ]
     },
     "execution_count": 50,
     "metadata": {},
     "output_type": "execute_result"
    }
   ],
   "source": [
    "torch.exp(y_res[0][0][1413]), previous_iteration[\"model_input\"][0][0][1413]"
   ]
  },
  {
   "cell_type": "code",
   "execution_count": 46,
   "id": "b20b143d",
   "metadata": {},
   "outputs": [
    {
     "data": {
      "text/plain": [
       "tensor(0., device='cuda:0')"
      ]
     },
     "execution_count": 46,
     "metadata": {},
     "output_type": "execute_result"
    }
   ],
   "source": [
    "y_res[0][0][1413] * previous_iteration[\"model_input\"][0][0][1413]"
   ]
  },
  {
   "cell_type": "code",
   "execution_count": 53,
   "id": "513547f7",
   "metadata": {},
   "outputs": [
    {
     "data": {
      "text/plain": [
       "tensor(inf, device='cuda:0')"
      ]
     },
     "execution_count": 53,
     "metadata": {},
     "output_type": "execute_result"
    }
   ],
   "source": [
    "torch.exp(y_res[0][0][1413]) * ( 1 + previous_iteration[\"model_input\"][0][0][1413])"
   ]
  },
  {
   "cell_type": "code",
   "execution_count": null,
   "id": "09830dce",
   "metadata": {},
   "outputs": [],
   "source": []
  }
 ],
 "metadata": {
  "kernelspec": {
   "display_name": ".venv",
   "language": "python",
   "name": "python3"
  },
  "language_info": {
   "codemirror_mode": {
    "name": "ipython",
    "version": 3
   },
   "file_extension": ".py",
   "mimetype": "text/x-python",
   "name": "python",
   "nbconvert_exporter": "python",
   "pygments_lexer": "ipython3",
   "version": "3.11.13"
  }
 },
 "nbformat": 4,
 "nbformat_minor": 5
}
